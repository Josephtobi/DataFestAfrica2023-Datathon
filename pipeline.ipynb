{
 "cells": [
  {
   "cell_type": "code",
   "execution_count": 1,
   "id": "88df2963",
   "metadata": {},
   "outputs": [],
   "source": [
    "import pandas as pd\n",
    "import numpy as np"
   ]
  },
  {
   "cell_type": "code",
   "execution_count": 2,
   "id": "f031d1df",
   "metadata": {},
   "outputs": [
    {
     "name": "stderr",
     "output_type": "stream",
     "text": [
      "/var/folders/43/4fpb2szs56d8v5kf33sc9w500000gn/T/ipykernel_58744/165813921.py:5: DtypeWarning: Columns (0,1,5) have mixed types. Specify dtype option on import or set low_memory=False.\n",
      "  location=pd.read_csv('location.csv')\n",
      "/var/folders/43/4fpb2szs56d8v5kf33sc9w500000gn/T/ipykernel_58744/165813921.py:13: DtypeWarning: Columns (0,1) have mixed types. Specify dtype option on import or set low_memory=False.\n",
      "  weather=pd.read_csv('weather.csv')\n"
     ]
    }
   ],
   "source": [
    "#Load data\n",
    "\n",
    "crop=pd.read_csv('crop.csv')\n",
    "\n",
    "location=pd.read_csv('location.csv')\n",
    "\n",
    "pest=pd.read_csv('pest.csv')\n",
    "\n",
    "sensor=pd.read_csv('sensor.csv')\n",
    "\n",
    "soil=pd.read_csv('soil.csv')\n",
    "\n",
    "weather=pd.read_csv('weather.csv')"
   ]
  },
  {
   "cell_type": "markdown",
   "id": "49283def",
   "metadata": {},
   "source": [
    "# Transform Crop\n"
   ]
  },
  {
   "cell_type": "code",
   "execution_count": 3,
   "id": "be153948",
   "metadata": {},
   "outputs": [],
   "source": [
    "crop['TIMESTAMP']=pd.to_datetime(crop['TIMESTAMP'])\n",
    "crop = crop.dropna(subset=['CROP_TYPE'])\n",
    "crop['CROP_TYPE'] = crop['CROP_TYPE'].replace('Wheaat', 'Wheat')\n",
    "crop['CROP_TYPE'] = crop['CROP_TYPE'].replace('Cron', 'Corn')\n",
    "crop['Average'] = crop.groupby('CROP_TYPE')['CROP_YIELD'].transform('mean')\n",
    "crop['CROP_YIELD'].fillna(crop['Average'], inplace=True)\n",
    "crop.drop(columns=['Average'], inplace=True)\n",
    "crop['GROWTH_STAGE'].fillna('Seedling', inplace=True)\n",
    "crop['GROWTH_STAGE'] = crop['GROWTH_STAGE'].replace('Vegatative', 'Vegetative')\n",
    "crop['GROWTH_STAGE'] = crop['GROWTH_STAGE'].replace('Flowerring', 'Flowering')\n",
    "crop['PEST_ISSUE'].fillna('No Pest Issue', inplace=True)\n",
    "crop['PEST_ISSUE'] = crop['PEST_ISSUE'].replace('Aphidds', 'Aphids')\n"
   ]
  },
  {
   "cell_type": "markdown",
   "id": "95faefc1",
   "metadata": {},
   "source": [
    "# Transform Location"
   ]
  },
  {
   "cell_type": "code",
   "execution_count": 4,
   "id": "b7e6e1ab",
   "metadata": {},
   "outputs": [],
   "source": [
    "location.dropna(inplace=True)\n",
    "def replace(value):\n",
    "    return value[4:8]\n",
    "\n",
    "location['SENSOR_ID'] = location['SENSOR_ID'].apply(replace)\n",
    "\n"
   ]
  },
  {
   "cell_type": "markdown",
   "id": "d092fc0c",
   "metadata": {},
   "source": [
    "# Transform Pest"
   ]
  },
  {
   "cell_type": "code",
   "execution_count": 5,
   "id": "98f99cf7",
   "metadata": {},
   "outputs": [],
   "source": [
    "pest['TIMESTAMP']=pd.to_datetime(pest['TIMESTAMP'])\n",
    "pest['PEST_TYPE'] = pest['PEST_TYPE'].replace('Aphiods', 'Aphids')\n",
    "pest['PEST_TYPE'] = pest['PEST_TYPE'].replace('Slogs', 'Slugs')\n",
    "\n",
    "mode_values = pest.groupby('PEST_TYPE')['PEST_DESCRIPTION'].transform(lambda x: x.mode().iloc[0])\n",
    "pest['PEST_DESCRIPTION'].fillna(mode_values, inplace=True)\n",
    "\n",
    "\n",
    "mode_values2 = pest.groupby('PEST_TYPE')['PEST_SEVERITY'].transform(lambda x: x.mode().iloc[0])\n",
    "pest['PEST_SEVERITY'].fillna(mode_values2, inplace=True)\n",
    "\n",
    "#typo found in description\n",
    "\n",
    "pest['PEST_DESCRIPTION'] = pest['PEST_DESCRIPTION'].replace('Aphiods :  high infestation risk.', 'Aphids :  high infestation risk.')\n",
    "\n",
    "pest['PEST_DESCRIPTION'] = pest['PEST_DESCRIPTION'].replace('Aphiods :  presence detected.', 'Aphids :  presence detected.')\n",
    "\n",
    "pest['PEST_DESCRIPTION'] = pest['PEST_DESCRIPTION'].replace('Aphiods :  infestation detected', 'Aphids :  infestation detected')\n",
    "\n",
    "pest['PEST_DESCRIPTION'] = pest['PEST_DESCRIPTION'].replace('Aphiods :  high infestation riskkk.', 'Aphiods :  high infestation risk.')\n",
    "\n",
    "pest['PEST_DESCRIPTION'] = pest['PEST_DESCRIPTION'].replace('Fungus :  high infestation riskkk.', 'Fungus :  high infestation risk.')\n",
    "\n",
    "pest['PEST_DESCRIPTION'] = pest['PEST_DESCRIPTION'].replace('Slugs :  high infestation riskkk.', 'Slugs :  high infestation risk.')\n",
    "\n",
    "pest['PEST_DESCRIPTION'] = pest['PEST_DESCRIPTION'].replace('Slogs :  high infestation risk.', 'Slugs :  high infestation risk.')\n",
    "\n",
    "pest['PEST_DESCRIPTION'] = pest['PEST_DESCRIPTION'].replace('Aphids :  high infestation riskkk.', 'Aphids :  high infestation risk.')\n",
    "\n",
    "pest['PEST_DESCRIPTION'] = pest['PEST_DESCRIPTION'].replace('Other :  high infestation riskkk.', 'Other :  high infestation risk.')\n",
    "\n",
    "pest['PEST_DESCRIPTION'] = pest['PEST_DESCRIPTION'].replace('Other :  infestation deteced.', 'Other :  infestation detected.')\n",
    "\n",
    "pest['PEST_DESCRIPTION'] = pest['PEST_DESCRIPTION'].replace('Mites :  high infestation riskkk.', 'Mites :  high infestation risk.')\n",
    "\n",
    "pest['PEST_DESCRIPTION'] = pest['PEST_DESCRIPTION'].replace('Caterpillars :  high infestation riskkk.', 'Caterpillars :  high infestation risk.')\n",
    "\n",
    "pest['PEST_DESCRIPTION'] = pest['PEST_DESCRIPTION'].replace('Whiteflies :  infestation deteced.', 'Whiteflies :  infestation detected.')\n",
    "\n",
    "pest['PEST_DESCRIPTION'] = pest['PEST_DESCRIPTION'].replace('Whiteflies :  high infestation riskkk.', 'Whiteflies :  high infestation risk.')\n",
    "\n",
    "pest['PEST_DESCRIPTION'] = pest['PEST_DESCRIPTION'].replace('Slogs :  infestation deteced.', 'Slugs :  infestation detected.')\n",
    "\n",
    "pest['PEST_DESCRIPTION'] = pest['PEST_DESCRIPTION'].replace('Aphiods :  infestation deteced.', 'Aphiods :  infestation detected.')\n",
    "\n",
    "pest['PEST_DESCRIPTION'] = pest['PEST_DESCRIPTION'].replace('Aphids :  infestation deteced.', 'Aphids :  infestation detected.')\n",
    "\n",
    "pest['PEST_DESCRIPTION'] = pest['PEST_DESCRIPTION'].replace('Aphiods :  infestation found.', 'Aphids :  infestation found.')\n",
    "\n",
    "pest['PEST_DESCRIPTION'] = pest['PEST_DESCRIPTION'].replace('Fungus :  infestation deteced.', 'Fungus :  infestation detected.')\n",
    "\n",
    "pest['PEST_DESCRIPTION'] = pest['PEST_DESCRIPTION'].replace('Slugs :  infestation deteced.', 'Slugs :  infestation detected. ')\n",
    "\n",
    "pest['PEST_DESCRIPTION'] = pest['PEST_DESCRIPTION'].replace('Aphiods :  infestation detected.', 'Aphids :  infestation detected. ')\n",
    "\n",
    "pest['PEST_DESCRIPTION'] = pest['PEST_DESCRIPTION'].replace('Aphiods :  high infestation risk.', 'Aphids :  high infestation risk. ')\n",
    "\n",
    "pest['PEST_DESCRIPTION'] = pest['PEST_DESCRIPTION'].replace('Slogs :  high infestation riskkk.', 'Slugs :  high infestation risk. ')\n",
    "\n",
    "pest['PEST_DESCRIPTION'] = pest['PEST_DESCRIPTION'].replace('Slogs :  infestation detected.', 'Slugs :  infestation detected. ')\n",
    "\n",
    "pest['PEST_DESCRIPTION'] = pest['PEST_DESCRIPTION'].replace('Mites :  infestation deteced.', 'Mites :  infestation detected. ')\n",
    "\n",
    "pest['PEST_DESCRIPTION'] = pest['PEST_DESCRIPTION'].replace('Caterpillars :  infestation deteced.', 'Caterpillars :  infestation detected. ')\n",
    "\n",
    "\n",
    "pest['PEST_SEVERITY'] = pest['PEST_SEVERITY'].replace('Hihg', 'High')\n"
   ]
  },
  {
   "cell_type": "markdown",
   "id": "85163bf9",
   "metadata": {},
   "source": [
    "# Transform sensor"
   ]
  },
  {
   "cell_type": "code",
   "execution_count": 6,
   "id": "f666532e",
   "metadata": {},
   "outputs": [],
   "source": [
    "sensor['SENSOR_ID'] = sensor['SENSOR_ID'].str.strip('\"')\n",
    "\n",
    "sensor['TIMESTAMP'] = sensor['TIMESTAMP'].str.strip('\"')\n",
    "\n",
    "sensor['TIMESTAMP']=pd.to_datetime(sensor['TIMESTAMP'])\n",
    "\n",
    "sensor['Average'] = sensor.groupby('SENSOR_ID')['TEMPERATURE'].transform('mean')\n",
    "sensor['TEMPERATURE'].fillna(sensor['Average'], inplace=True)\n",
    "sensor.drop(columns=['Average'], inplace=True)\n",
    "\n",
    "sensor['Average'] = sensor.groupby('SENSOR_ID')['HUMIDITY'].transform('mean')\n",
    "sensor['HUMIDITY'].fillna(sensor['Average'], inplace=True)\n",
    "sensor.drop(columns=['Average'], inplace=True)\n",
    "\n",
    "sensor['Average'] = sensor.groupby('SENSOR_ID')['SOIL_MOISTURE'].transform('mean')\n",
    "sensor['SOIL_MOISTURE'].fillna(sensor['Average'], inplace=True)\n",
    "sensor.drop(columns=['Average'], inplace=True)\n",
    "\n",
    "sensor['Average'] = sensor.groupby('SENSOR_ID')['LIGHT_INTENSITY'].transform('mean')\n",
    "sensor['LIGHT_INTENSITY'].fillna(sensor['Average'], inplace=True)\n",
    "sensor.drop(columns=['Average'], inplace=True)\n",
    "\n",
    "sensor['Average'] = sensor.groupby('SENSOR_ID')['BATTERY_LEVEL'].transform('mean')\n",
    "sensor['BATTERY_LEVEL'].fillna(sensor['Average'], inplace=True)\n",
    "sensor.drop(columns=['Average'], inplace=True)\n",
    "\n"
   ]
  },
  {
   "cell_type": "markdown",
   "id": "a34422a2",
   "metadata": {},
   "source": [
    "# Transform Soil"
   ]
  },
  {
   "cell_type": "code",
   "execution_count": 7,
   "id": "6a881fab",
   "metadata": {},
   "outputs": [
    {
     "name": "stderr",
     "output_type": "stream",
     "text": [
      "/var/folders/43/4fpb2szs56d8v5kf33sc9w500000gn/T/ipykernel_58744/3766981789.py:2: FutureWarning: DataFrame.mean and DataFrame.median with numeric_only=None will include datetime64 and datetime64tz columns in a future version.\n",
      "  soil_mean=soil.mean()\n"
     ]
    }
   ],
   "source": [
    "soil['TIMESTAMP']=pd.to_datetime(soil['TIMESTAMP'])\n",
    "soil_mean=soil.mean()\n",
    "\n",
    "soil.fillna(soil_mean, inplace=True)"
   ]
  },
  {
   "cell_type": "markdown",
   "id": "ffd20be3",
   "metadata": {},
   "source": [
    "# Transform Weather"
   ]
  },
  {
   "cell_type": "code",
   "execution_count": 8,
   "id": "28f9ab3f",
   "metadata": {},
   "outputs": [],
   "source": [
    "weather['TIMESTAMP']=pd.to_datetime(weather['TIMESTAMP'])\n",
    "mode_value = weather['WEATHER_CONDITION'].mode()[0]\n",
    "weather['WEATHER_CONDITION'].fillna(mode_value, inplace=True)\n",
    "\n",
    "weather['Average'] = weather.groupby('WEATHER_CONDITION')['WIND_SPEED'].transform('mean')\n",
    "weather['WIND_SPEED'].fillna(weather['Average'], inplace=True)\n",
    "weather.drop(columns=['Average'], inplace=True)\n",
    "\n",
    "\n",
    "weather['Average'] = weather.groupby('WEATHER_CONDITION')['PRECIPITATION'].transform('mean')\n",
    "weather['PRECIPITATION'].fillna(weather['Average'], inplace=True)\n",
    "weather.drop(columns=['Average'], inplace=True)\n",
    "\n",
    "weather['WEATHER_CONDITION'] = weather['WEATHER_CONDITION'].replace('Claar', 'Clear')\n",
    "\n",
    "weather['WEATHER_CONDITION'] = weather['WEATHER_CONDITION'].replace('Party Cloudy', 'Partly Cloudy')\n",
    "\n"
   ]
  },
  {
   "cell_type": "markdown",
   "id": "8c0748b0",
   "metadata": {},
   "source": [
    "# Generate Fact Table"
   ]
  },
  {
   "cell_type": "code",
   "execution_count": 9,
   "id": "ac410b3a",
   "metadata": {},
   "outputs": [],
   "source": [
    "result_df = pd.merge(sensor, crop, on='TIMESTAMP', how='inner')\n",
    "crop_fix=result_df[['TIMESTAMP','CROP_TYPE','SENSOR_ID','CROP_YIELD']]\n"
   ]
  },
  {
   "cell_type": "markdown",
   "id": "80332abb",
   "metadata": {},
   "source": [
    "# Load data back"
   ]
  },
  {
   "cell_type": "code",
   "execution_count": 10,
   "id": "eda9d100",
   "metadata": {},
   "outputs": [],
   "source": [
    "#snowflake has a 50mb limit so we broke data into chunks\n",
    "\n",
    "\n",
    "# chunk_size = 500000\n",
    "\n",
    "# chunks = [crop[i:i + chunk_size] for i in range(0, len(crop), chunk_size)]\n",
    "\n",
    "# # Write each chunk to a separate CSV file\n",
    "# for i, chunk in enumerate(chunks):\n",
    "#     chunk.to_csv(f'crop_clean_{i}.csv', index=False)\n",
    "\n",
    "\n",
    "# chunks = [location[i:i + chunk_size] for i in range(0, len(location), chunk_size)]\n",
    "\n",
    "# # Write each chunk to a separate CSV file\n",
    "# for i, chunk in enumerate(chunks):\n",
    "#     chunk.to_csv(f'location_clean_{i}.csv', index=False)\n",
    "\n",
    "# chunks = [pest[i:i + chunk_size] for i in range(0, len(pest), chunk_size)]\n",
    "\n",
    "# # Write each chunk to a separate CSV file\n",
    "# for i, chunk in enumerate(chunks):\n",
    "#     chunk.to_csv(f'pest_clean_{i}.csv', index=False)\n",
    "\n",
    "# chunks = [sensor[i:i + chunk_size] for i in range(0, len(sensor), chunk_size)]\n",
    "\n",
    "# # Write each chunk to a separate CSV file\n",
    "# for i, chunk in enumerate(chunks):\n",
    "#     chunk.to_csv(f'sensor_clean_{i}.csv', index=False)\n",
    "\n",
    "# chunks = [soil[i:i + chunk_size] for i in range(0, len(soil), chunk_size)]\n",
    "\n",
    "# # Write each chunk to a separate CSV file\n",
    "# for i, chunk in enumerate(chunks):\n",
    "#     chunk.to_csv(f'soil_clean_{i}.csv', index=False)\n",
    "\n",
    "# chunks = [weather[i:i + chunk_size] for i in range(0, len(weather), chunk_size)]\n",
    "\n",
    "# # Write each chunk to a separate CSV file\n",
    "# for i, chunk in enumerate(chunks):\n",
    "#     chunk.to_csv(f'weather_clean_{i}.csv', index=False)\n",
    "\n",
    "# chunks = [crop_fix[i:i + chunk_size] for i in range(0, len(crop_fix), chunk_size)]\n",
    "\n",
    "# # Write each chunk to a separate CSV file\n",
    "# for i, chunk in enumerate(chunks):\n",
    "#     chunk.to_csv(f'crop_fix{i}.csv', index=False)"
   ]
  },
  {
   "cell_type": "code",
   "execution_count": null,
   "id": "9fa1eeaf",
   "metadata": {},
   "outputs": [],
   "source": []
  }
 ],
 "metadata": {
  "kernelspec": {
   "display_name": "Python 3 (ipykernel)",
   "language": "python",
   "name": "python3"
  },
  "language_info": {
   "codemirror_mode": {
    "name": "ipython",
    "version": 3
   },
   "file_extension": ".py",
   "mimetype": "text/x-python",
   "name": "python",
   "nbconvert_exporter": "python",
   "pygments_lexer": "ipython3",
   "version": "3.11.4"
  }
 },
 "nbformat": 4,
 "nbformat_minor": 5
}
