{
 "cells": [
  {
   "cell_type": "code",
   "execution_count": 2,
   "id": "d4b5973d",
   "metadata": {},
   "outputs": [],
   "source": [
    "import pandas as pd\n",
    "import numpy as np"
   ]
  },
  {
   "cell_type": "code",
   "execution_count": null,
   "id": "55f38e4a",
   "metadata": {},
   "outputs": [],
   "source": []
  },
  {
   "cell_type": "code",
   "execution_count": 3,
   "id": "e7ca5235",
   "metadata": {},
   "outputs": [
    {
     "name": "stderr",
     "output_type": "stream",
     "text": [
      "/var/folders/43/4fpb2szs56d8v5kf33sc9w500000gn/T/ipykernel_36081/2928007004.py:3: DtypeWarning: Columns (0,1,5) have mixed types. Specify dtype option on import or set low_memory=False.\n",
      "  location=pd.read_csv('location.csv')\n",
      "/var/folders/43/4fpb2szs56d8v5kf33sc9w500000gn/T/ipykernel_36081/2928007004.py:11: DtypeWarning: Columns (0,1) have mixed types. Specify dtype option on import or set low_memory=False.\n",
      "  weather=pd.read_csv('weather.csv')\n"
     ]
    }
   ],
   "source": [
    "crop=pd.read_csv('crop.csv')\n",
    "\n",
    "location=pd.read_csv('location.csv')\n",
    "\n",
    "pest=pd.read_csv('pest.csv')\n",
    "\n",
    "sensor=pd.read_csv('sensor.csv')\n",
    "\n",
    "soil=pd.read_csv('soil.csv')\n",
    "\n",
    "weather=pd.read_csv('weather.csv')"
   ]
  },
  {
   "cell_type": "markdown",
   "id": "2592a4d7",
   "metadata": {},
   "source": [
    "# Working on Crop Table"
   ]
  },
  {
   "cell_type": "code",
   "execution_count": 4,
   "id": "3c6d994a",
   "metadata": {},
   "outputs": [
    {
     "data": {
      "text/plain": [
       "TIMESTAMP        object\n",
       "CROP_TYPE        object\n",
       "CROP_YIELD      float64\n",
       "GROWTH_STAGE     object\n",
       "PEST_ISSUE       object\n",
       "dtype: object"
      ]
     },
     "execution_count": 4,
     "metadata": {},
     "output_type": "execute_result"
    }
   ],
   "source": [
    "crop.dtypes"
   ]
  },
  {
   "cell_type": "code",
   "execution_count": 6,
   "id": "d8ee9795",
   "metadata": {},
   "outputs": [],
   "source": [
    "#Fixing timestamp\n",
    "\n",
    "crop['TIMESTAMP']=pd.to_datetime(crop['TIMESTAMP'])"
   ]
  },
  {
   "cell_type": "code",
   "execution_count": 7,
   "id": "04000b04",
   "metadata": {},
   "outputs": [],
   "source": [
    "#fixing mistyped values"
   ]
  },
  {
   "cell_type": "code",
   "execution_count": 8,
   "id": "307307e5",
   "metadata": {},
   "outputs": [
    {
     "data": {
      "text/html": [
       "<div>\n",
       "<style scoped>\n",
       "    .dataframe tbody tr th:only-of-type {\n",
       "        vertical-align: middle;\n",
       "    }\n",
       "\n",
       "    .dataframe tbody tr th {\n",
       "        vertical-align: top;\n",
       "    }\n",
       "\n",
       "    .dataframe thead th {\n",
       "        text-align: right;\n",
       "    }\n",
       "</style>\n",
       "<table border=\"1\" class=\"dataframe\">\n",
       "  <thead>\n",
       "    <tr style=\"text-align: right;\">\n",
       "      <th></th>\n",
       "      <th>TIMESTAMP</th>\n",
       "      <th>CROP_TYPE</th>\n",
       "      <th>CROP_YIELD</th>\n",
       "      <th>GROWTH_STAGE</th>\n",
       "      <th>PEST_ISSUE</th>\n",
       "    </tr>\n",
       "  </thead>\n",
       "  <tbody>\n",
       "    <tr>\n",
       "      <th>0</th>\n",
       "      <td>2023-06-24 14:37:00</td>\n",
       "      <td>Tomato</td>\n",
       "      <td>111.23</td>\n",
       "      <td>Fruiting</td>\n",
       "      <td>Fungus</td>\n",
       "    </tr>\n",
       "    <tr>\n",
       "      <th>1</th>\n",
       "      <td>2023-01-14 00:57:00</td>\n",
       "      <td>Soybean</td>\n",
       "      <td>589.51</td>\n",
       "      <td>Fruiting</td>\n",
       "      <td>Whiteflies</td>\n",
       "    </tr>\n",
       "    <tr>\n",
       "      <th>2</th>\n",
       "      <td>2023-03-14 14:40:00</td>\n",
       "      <td>Wheat</td>\n",
       "      <td>986.35</td>\n",
       "      <td>Vegatative</td>\n",
       "      <td>Fungus</td>\n",
       "    </tr>\n",
       "    <tr>\n",
       "      <th>3</th>\n",
       "      <td>2023-05-28 18:17:00</td>\n",
       "      <td>Barley</td>\n",
       "      <td>237.98</td>\n",
       "      <td>Fruiting</td>\n",
       "      <td>Caterpillars</td>\n",
       "    </tr>\n",
       "    <tr>\n",
       "      <th>4</th>\n",
       "      <td>2022-12-31 10:39:00</td>\n",
       "      <td>Tomato</td>\n",
       "      <td>801.23</td>\n",
       "      <td>Fruiting</td>\n",
       "      <td>Whiteflies</td>\n",
       "    </tr>\n",
       "  </tbody>\n",
       "</table>\n",
       "</div>"
      ],
      "text/plain": [
       "            TIMESTAMP CROP_TYPE  CROP_YIELD GROWTH_STAGE    PEST_ISSUE\n",
       "0 2023-06-24 14:37:00    Tomato      111.23     Fruiting        Fungus\n",
       "1 2023-01-14 00:57:00   Soybean      589.51     Fruiting    Whiteflies\n",
       "2 2023-03-14 14:40:00     Wheat      986.35   Vegatative        Fungus\n",
       "3 2023-05-28 18:17:00    Barley      237.98     Fruiting  Caterpillars\n",
       "4 2022-12-31 10:39:00    Tomato      801.23     Fruiting    Whiteflies"
      ]
     },
     "execution_count": 8,
     "metadata": {},
     "output_type": "execute_result"
    }
   ],
   "source": [
    "crop.head()"
   ]
  },
  {
   "cell_type": "code",
   "execution_count": 9,
   "id": "916cf918",
   "metadata": {},
   "outputs": [
    {
     "data": {
      "text/plain": [
       "array(['Tomato', 'Soybean', 'Wheat', 'Barley', 'Rice', 'Corn',\n",
       "       'Sugarcane', 'Carrot', 'Wheaat', 'Potato', 'Cotton', 'Cron', nan],\n",
       "      dtype=object)"
      ]
     },
     "execution_count": 9,
     "metadata": {},
     "output_type": "execute_result"
    }
   ],
   "source": [
    "#focus: crop type\n",
    "crop['CROP_TYPE'].unique()"
   ]
  },
  {
   "cell_type": "code",
   "execution_count": 10,
   "id": "55bcbe47",
   "metadata": {},
   "outputs": [],
   "source": [
    "null_count_crop_type= crop['CROP_TYPE'].isna().sum()"
   ]
  },
  {
   "cell_type": "code",
   "execution_count": 11,
   "id": "01809d85",
   "metadata": {},
   "outputs": [
    {
     "name": "stdout",
     "output_type": "stream",
     "text": [
      "5\n"
     ]
    }
   ],
   "source": [
    "print(null_count_crop_type)"
   ]
  },
  {
   "cell_type": "code",
   "execution_count": 12,
   "id": "528112a9",
   "metadata": {},
   "outputs": [
    {
     "name": "stdout",
     "output_type": "stream",
     "text": [
      "(2097145, 5)\n",
      "(2097140, 5)\n"
     ]
    }
   ],
   "source": [
    "#5 is small so drop\n",
    "print(crop.shape)\n",
    "crop = crop.dropna(subset=['CROP_TYPE'])\n",
    "print(crop.shape)"
   ]
  },
  {
   "cell_type": "code",
   "execution_count": 13,
   "id": "022dc7a4",
   "metadata": {},
   "outputs": [],
   "source": [
    "#then lets clean data with typos (Wheaat,Cron,)\n",
    "\n",
    "crop['CROP_TYPE'] = crop['CROP_TYPE'].replace('Wheaat', 'Wheat')\n",
    "crop['CROP_TYPE'] = crop['CROP_TYPE'].replace('Cron', 'Corn')"
   ]
  },
  {
   "cell_type": "code",
   "execution_count": 14,
   "id": "5c33b046",
   "metadata": {},
   "outputs": [
    {
     "data": {
      "text/plain": [
       "array(['Tomato', 'Soybean', 'Wheat', 'Barley', 'Rice', 'Corn',\n",
       "       'Sugarcane', 'Carrot', 'Potato', 'Cotton'], dtype=object)"
      ]
     },
     "execution_count": 14,
     "metadata": {},
     "output_type": "execute_result"
    }
   ],
   "source": [
    "crop['CROP_TYPE'].unique()"
   ]
  },
  {
   "cell_type": "code",
   "execution_count": 15,
   "id": "db78d40b",
   "metadata": {},
   "outputs": [],
   "source": [
    "#lets fix crop yield\n",
    "crop['Average'] = crop.groupby('CROP_TYPE')['CROP_YIELD'].transform('mean')\n",
    "crop['CROP_YIELD'].fillna(crop['Average'], inplace=True)\n",
    "crop.drop(columns=['Average'], inplace=True)\n"
   ]
  },
  {
   "cell_type": "code",
   "execution_count": 16,
   "id": "b88b3725",
   "metadata": {},
   "outputs": [
    {
     "data": {
      "text/plain": [
       "array(['Fruiting', 'Vegatative', 'Vegetative', 'Seedling', 'Flowering',\n",
       "       'Harvesting', nan, 'Flowerring'], dtype=object)"
      ]
     },
     "execution_count": 16,
     "metadata": {},
     "output_type": "execute_result"
    }
   ],
   "source": [
    "crop['GROWTH_STAGE'].unique()"
   ]
  },
  {
   "cell_type": "code",
   "execution_count": 17,
   "id": "2358d170",
   "metadata": {},
   "outputs": [
    {
     "data": {
      "text/plain": [
       "array(['Fruiting', 'Vegatative', 'Vegetative', 'Seedling', 'Flowering',\n",
       "       'Harvesting', 'Flowerring'], dtype=object)"
      ]
     },
     "execution_count": 17,
     "metadata": {},
     "output_type": "execute_result"
    }
   ],
   "source": [
    "#fix growth stage\n",
    "\n",
    "crop['GROWTH_STAGE'].fillna('Seedling', inplace=True)\n",
    "crop['GROWTH_STAGE'].unique()"
   ]
  },
  {
   "cell_type": "code",
   "execution_count": 18,
   "id": "04374a92",
   "metadata": {},
   "outputs": [
    {
     "data": {
      "text/plain": [
       "array(['Fruiting', 'Vegetative', 'Seedling', 'Flowering', 'Harvesting'],\n",
       "      dtype=object)"
      ]
     },
     "execution_count": 18,
     "metadata": {},
     "output_type": "execute_result"
    }
   ],
   "source": [
    "#fix typos\n",
    "\n",
    "crop['GROWTH_STAGE'] = crop['GROWTH_STAGE'].replace('Vegatative', 'Vegetative')\n",
    "crop['GROWTH_STAGE'] = crop['GROWTH_STAGE'].replace('Flowerring', 'Flowering')\n",
    "\n",
    "crop['GROWTH_STAGE'].unique()"
   ]
  },
  {
   "cell_type": "code",
   "execution_count": 19,
   "id": "4d697137",
   "metadata": {},
   "outputs": [
    {
     "data": {
      "text/plain": [
       "array(['Fungus', 'Whiteflies', 'Caterpillars', 'Mites', nan, 'Aphids',\n",
       "       'No Pest Issue', 'Aphidds'], dtype=object)"
      ]
     },
     "execution_count": 19,
     "metadata": {},
     "output_type": "execute_result"
    }
   ],
   "source": [
    "crop['PEST_ISSUE'].unique()"
   ]
  },
  {
   "cell_type": "code",
   "execution_count": 20,
   "id": "c6cd1a3e",
   "metadata": {},
   "outputs": [
    {
     "data": {
      "text/plain": [
       "array(['Fungus', 'Whiteflies', 'Caterpillars', 'Mites', 'No Pest Issue',\n",
       "       'Aphids', 'Aphidds'], dtype=object)"
      ]
     },
     "execution_count": 20,
     "metadata": {},
     "output_type": "execute_result"
    }
   ],
   "source": [
    "#fix pest issue\n",
    "\n",
    "crop['PEST_ISSUE'].fillna('No Pest Issue', inplace=True)\n",
    "crop['PEST_ISSUE'].unique()"
   ]
  },
  {
   "cell_type": "code",
   "execution_count": 21,
   "id": "330f5e29",
   "metadata": {},
   "outputs": [
    {
     "data": {
      "text/plain": [
       "array(['Fungus', 'Whiteflies', 'Caterpillars', 'Mites', 'No Pest Issue',\n",
       "       'Aphids'], dtype=object)"
      ]
     },
     "execution_count": 21,
     "metadata": {},
     "output_type": "execute_result"
    }
   ],
   "source": [
    "crop['PEST_ISSUE'] = crop['PEST_ISSUE'].replace('Aphidds', 'Aphids')\n",
    "crop['PEST_ISSUE'].unique()\n"
   ]
  },
  {
   "cell_type": "markdown",
   "id": "6eb1b9ea",
   "metadata": {},
   "source": [
    "# working on location"
   ]
  },
  {
   "cell_type": "code",
   "execution_count": 22,
   "id": "22043503",
   "metadata": {},
   "outputs": [
    {
     "name": "stderr",
     "output_type": "stream",
     "text": [
      "/var/folders/43/4fpb2szs56d8v5kf33sc9w500000gn/T/ipykernel_36081/2634862259.py:2: DtypeWarning: Columns (0,1,5) have mixed types. Specify dtype option on import or set low_memory=False.\n",
      "  location=pd.read_csv('location.csv')\n"
     ]
    }
   ],
   "source": [
    "#drop all nan value\n",
    "location=pd.read_csv('location.csv')"
   ]
  },
  {
   "cell_type": "code",
   "execution_count": 23,
   "id": "a4cb17d4",
   "metadata": {},
   "outputs": [],
   "source": [
    "location.dropna(inplace=True)"
   ]
  },
  {
   "cell_type": "code",
   "execution_count": 24,
   "id": "e8e551fd",
   "metadata": {},
   "outputs": [
    {
     "data": {
      "text/html": [
       "<div>\n",
       "<style scoped>\n",
       "    .dataframe tbody tr th:only-of-type {\n",
       "        vertical-align: middle;\n",
       "    }\n",
       "\n",
       "    .dataframe tbody tr th {\n",
       "        vertical-align: top;\n",
       "    }\n",
       "\n",
       "    .dataframe thead th {\n",
       "        text-align: right;\n",
       "    }\n",
       "</style>\n",
       "<table border=\"1\" class=\"dataframe\">\n",
       "  <thead>\n",
       "    <tr style=\"text-align: right;\">\n",
       "      <th></th>\n",
       "      <th>SENSOR_ID</th>\n",
       "      <th>LOCATION_NAME</th>\n",
       "      <th>LATITUDE</th>\n",
       "      <th>LONGITUDE</th>\n",
       "      <th>ELEVATION</th>\n",
       "      <th>REGION</th>\n",
       "    </tr>\n",
       "  </thead>\n",
       "  <tbody>\n",
       "    <tr>\n",
       "      <th>0</th>\n",
       "      <td>**H_S614_##VBYAI**</td>\n",
       "      <td>Location 537069</td>\n",
       "      <td>-20.290687</td>\n",
       "      <td>-76.085154</td>\n",
       "      <td>744.73</td>\n",
       "      <td>East</td>\n",
       "    </tr>\n",
       "    <tr>\n",
       "      <th>1</th>\n",
       "      <td>**A_S534_##DCTFE**</td>\n",
       "      <td>Location 537070</td>\n",
       "      <td>7.836472</td>\n",
       "      <td>-17.116254</td>\n",
       "      <td>1601.59</td>\n",
       "      <td>East</td>\n",
       "    </tr>\n",
       "    <tr>\n",
       "      <th>2</th>\n",
       "      <td>**X_S500_##VQDDJ**</td>\n",
       "      <td>Location 537071</td>\n",
       "      <td>-55.465881</td>\n",
       "      <td>-121.322969</td>\n",
       "      <td>2307.28</td>\n",
       "      <td>South</td>\n",
       "    </tr>\n",
       "    <tr>\n",
       "      <th>3</th>\n",
       "      <td>**Z_S721_##NBMET**</td>\n",
       "      <td>Location 537072</td>\n",
       "      <td>7.840443</td>\n",
       "      <td>155.518523</td>\n",
       "      <td>4708.69</td>\n",
       "      <td>East</td>\n",
       "    </tr>\n",
       "    <tr>\n",
       "      <th>4</th>\n",
       "      <td>**E_S277_##SCCAZ**</td>\n",
       "      <td>Location 537073</td>\n",
       "      <td>58.713600</td>\n",
       "      <td>-30.183445</td>\n",
       "      <td>4315.49</td>\n",
       "      <td>East</td>\n",
       "    </tr>\n",
       "  </tbody>\n",
       "</table>\n",
       "</div>"
      ],
      "text/plain": [
       "            SENSOR_ID    LOCATION_NAME   LATITUDE   LONGITUDE  ELEVATION  \\\n",
       "0  **H_S614_##VBYAI**  Location 537069 -20.290687  -76.085154     744.73   \n",
       "1  **A_S534_##DCTFE**  Location 537070   7.836472  -17.116254    1601.59   \n",
       "2  **X_S500_##VQDDJ**  Location 537071 -55.465881 -121.322969    2307.28   \n",
       "3  **Z_S721_##NBMET**  Location 537072   7.840443  155.518523    4708.69   \n",
       "4  **E_S277_##SCCAZ**  Location 537073  58.713600  -30.183445    4315.49   \n",
       "\n",
       "  REGION  \n",
       "0   East  \n",
       "1   East  \n",
       "2  South  \n",
       "3   East  \n",
       "4   East  "
      ]
     },
     "execution_count": 24,
     "metadata": {},
     "output_type": "execute_result"
    }
   ],
   "source": [
    "location.head()"
   ]
  },
  {
   "cell_type": "code",
   "execution_count": 25,
   "id": "749081eb",
   "metadata": {},
   "outputs": [],
   "source": [
    "location['REGION'].unique()\n",
    "\n",
    "def replace(value):\n",
    "    return value[4:8]\n",
    "\n",
    "location['SENSOR_ID'] = location['SENSOR_ID'].apply(replace)\n"
   ]
  },
  {
   "cell_type": "markdown",
   "id": "35b2b8eb",
   "metadata": {},
   "source": [
    "# working on pest"
   ]
  },
  {
   "cell_type": "code",
   "execution_count": 26,
   "id": "90f35680",
   "metadata": {},
   "outputs": [
    {
     "data": {
      "text/html": [
       "<div>\n",
       "<style scoped>\n",
       "    .dataframe tbody tr th:only-of-type {\n",
       "        vertical-align: middle;\n",
       "    }\n",
       "\n",
       "    .dataframe tbody tr th {\n",
       "        vertical-align: top;\n",
       "    }\n",
       "\n",
       "    .dataframe thead th {\n",
       "        text-align: right;\n",
       "    }\n",
       "</style>\n",
       "<table border=\"1\" class=\"dataframe\">\n",
       "  <thead>\n",
       "    <tr style=\"text-align: right;\">\n",
       "      <th></th>\n",
       "      <th>TIMESTAMP</th>\n",
       "      <th>PEST_TYPE</th>\n",
       "      <th>PEST_DESCRIPTION</th>\n",
       "      <th>PEST_SEVERITY</th>\n",
       "    </tr>\n",
       "  </thead>\n",
       "  <tbody>\n",
       "    <tr>\n",
       "      <th>0</th>\n",
       "      <td>6/24/2023 14:37</td>\n",
       "      <td>Fungus</td>\n",
       "      <td>NaN</td>\n",
       "      <td>High</td>\n",
       "    </tr>\n",
       "    <tr>\n",
       "      <th>1</th>\n",
       "      <td>1/14/2023 0:57</td>\n",
       "      <td>Slugs</td>\n",
       "      <td>Slugs :  high infestation risk.</td>\n",
       "      <td>Low</td>\n",
       "    </tr>\n",
       "    <tr>\n",
       "      <th>2</th>\n",
       "      <td>3/14/2023 14:40</td>\n",
       "      <td>Other</td>\n",
       "      <td>Other :  presence detected.</td>\n",
       "      <td>Low</td>\n",
       "    </tr>\n",
       "    <tr>\n",
       "      <th>3</th>\n",
       "      <td>5/28/2023 18:17</td>\n",
       "      <td>Slugs</td>\n",
       "      <td>Slugs :  presence detected.</td>\n",
       "      <td>High</td>\n",
       "    </tr>\n",
       "    <tr>\n",
       "      <th>4</th>\n",
       "      <td>12/31/2022 10:39</td>\n",
       "      <td>Fungus</td>\n",
       "      <td>Fungus :  infestation found.</td>\n",
       "      <td>Low</td>\n",
       "    </tr>\n",
       "  </tbody>\n",
       "</table>\n",
       "</div>"
      ],
      "text/plain": [
       "          TIMESTAMP PEST_TYPE                 PEST_DESCRIPTION PEST_SEVERITY\n",
       "0   6/24/2023 14:37    Fungus                              NaN          High\n",
       "1    1/14/2023 0:57     Slugs  Slugs :  high infestation risk.           Low\n",
       "2   3/14/2023 14:40     Other      Other :  presence detected.           Low\n",
       "3   5/28/2023 18:17     Slugs      Slugs :  presence detected.          High\n",
       "4  12/31/2022 10:39    Fungus     Fungus :  infestation found.           Low"
      ]
     },
     "execution_count": 26,
     "metadata": {},
     "output_type": "execute_result"
    }
   ],
   "source": [
    "pest.head()"
   ]
  },
  {
   "cell_type": "code",
   "execution_count": 27,
   "id": "fd35463f",
   "metadata": {},
   "outputs": [
    {
     "data": {
      "text/plain": [
       "TIMESTAMP           object\n",
       "PEST_TYPE           object\n",
       "PEST_DESCRIPTION    object\n",
       "PEST_SEVERITY       object\n",
       "dtype: object"
      ]
     },
     "execution_count": 27,
     "metadata": {},
     "output_type": "execute_result"
    }
   ],
   "source": [
    "pest.dtypes"
   ]
  },
  {
   "cell_type": "code",
   "execution_count": 28,
   "id": "49fe7c15",
   "metadata": {},
   "outputs": [],
   "source": [
    "#fixing time stamps\n",
    "\n",
    "pest['TIMESTAMP']=pd.to_datetime(pest['TIMESTAMP'])"
   ]
  },
  {
   "cell_type": "code",
   "execution_count": 29,
   "id": "5fbc5c65",
   "metadata": {},
   "outputs": [
    {
     "data": {
      "text/plain": [
       "array(['Fungus', 'Slugs', 'Other', 'Mites', 'Whiteflies', 'Caterpillars',\n",
       "       'Slogs', 'Aphiods', 'Aphids'], dtype=object)"
      ]
     },
     "execution_count": 29,
     "metadata": {},
     "output_type": "execute_result"
    }
   ],
   "source": [
    "pest['PEST_TYPE'].unique()"
   ]
  },
  {
   "cell_type": "code",
   "execution_count": 30,
   "id": "d17bc6e1",
   "metadata": {},
   "outputs": [
    {
     "data": {
      "text/plain": [
       "array(['Fungus', 'Slugs', 'Other', 'Mites', 'Whiteflies', 'Caterpillars',\n",
       "       'Aphids'], dtype=object)"
      ]
     },
     "execution_count": 30,
     "metadata": {},
     "output_type": "execute_result"
    }
   ],
   "source": [
    "#fixing spelling error\n",
    "\n",
    "pest['PEST_TYPE'] = pest['PEST_TYPE'].replace('Aphiods', 'Aphids')\n",
    "pest['PEST_TYPE'] = pest['PEST_TYPE'].replace('Slogs', 'Slugs')\n",
    "pest['PEST_TYPE'].unique()\n"
   ]
  },
  {
   "cell_type": "code",
   "execution_count": 31,
   "id": "dcd051eb",
   "metadata": {},
   "outputs": [],
   "source": [
    "#fixing description\n",
    "\n",
    "mode_values = pest.groupby('PEST_TYPE')['PEST_DESCRIPTION'].transform(lambda x: x.mode().iloc[0])\n",
    "pest['PEST_DESCRIPTION'].fillna(mode_values, inplace=True)\n",
    "\n",
    "\n",
    "mode_values2 = pest.groupby('PEST_TYPE')['PEST_SEVERITY'].transform(lambda x: x.mode().iloc[0])\n",
    "pest['PEST_SEVERITY'].fillna(mode_values2, inplace=True)\n"
   ]
  },
  {
   "cell_type": "code",
   "execution_count": 32,
   "id": "e513d350",
   "metadata": {},
   "outputs": [
    {
     "data": {
      "text/plain": [
       "array(['Fungus :  presence detected.', 'Slugs :  high infestation risk.',\n",
       "       'Other :  presence detected.', 'Slugs :  presence detected.',\n",
       "       'Fungus :  infestation found.', 'Mites :  infestation detected.',\n",
       "       'Mites :  high infestation risk.',\n",
       "       'Whiteflies :  presence detected.',\n",
       "       'Fungus :  infestation detected.', 'Slugs :  infestation deteced.',\n",
       "       'Caterpillars :  high infestation risk.',\n",
       "       'Fungus :  high infestation risk.',\n",
       "       'Whiteflies :  infestation detected.',\n",
       "       'Other :  infestation detected.',\n",
       "       'Caterpillars :  infestation found.',\n",
       "       'Mites :  presence detected.', 'Other :  infestation found.',\n",
       "       'Slugs :  infestation found.', 'Slogs :  presence detected.',\n",
       "       'Aphiods :  high infestation risk.',\n",
       "       'Other :  high infestation risk.',\n",
       "       'Whiteflies :  infestation found.', 'Aphids :  infestation found.',\n",
       "       'Mites :  infestation found.', 'Aphids :  presence detected.',\n",
       "       'Caterpillars :  infestation detected.',\n",
       "       'Slogs :  infestation found.',\n",
       "       'Caterpillars :  presence detected.',\n",
       "       'Whiteflies :  high infestation risk.',\n",
       "       'Aphiods :  infestation detected.',\n",
       "       'Aphiods :  presence detected.',\n",
       "       'Aphiods :  high infestation riskkk.',\n",
       "       'Slugs :  infestation detected.',\n",
       "       'Fungus :  high infestation riskkk.',\n",
       "       'Aphids :  high infestation risk.',\n",
       "       'Slugs :  high infestation riskkk.',\n",
       "       'Slogs :  high infestation risk.',\n",
       "       'Aphids :  infestation detected.',\n",
       "       'Aphids :  high infestation riskkk.',\n",
       "       'Other :  high infestation riskkk.',\n",
       "       'Other :  infestation deteced.',\n",
       "       'Mites :  high infestation riskkk.',\n",
       "       'Caterpillars :  high infestation riskkk.',\n",
       "       'Slogs :  high infestation riskkk.',\n",
       "       'Slogs :  infestation detected.', 'Fungus :  infestation deteced.',\n",
       "       'Mites :  infestation deteced.', 'Aphiods :  infestation found.',\n",
       "       'Caterpillars :  infestation deteced.',\n",
       "       'Whiteflies :  infestation deteced.',\n",
       "       'Whiteflies :  high infestation riskkk.',\n",
       "       'Slogs :  infestation deteced.', 'Aphids :  infestation deteced.',\n",
       "       'Aphiods :  infestation deteced.'], dtype=object)"
      ]
     },
     "execution_count": 32,
     "metadata": {},
     "output_type": "execute_result"
    }
   ],
   "source": [
    "pest['PEST_DESCRIPTION'].unique()\n",
    "\n",
    "\n"
   ]
  },
  {
   "cell_type": "code",
   "execution_count": 33,
   "id": "5fd4616c",
   "metadata": {},
   "outputs": [
    {
     "data": {
      "text/plain": [
       "array(['High', 'Low', 'Medium', 'Hihg'], dtype=object)"
      ]
     },
     "execution_count": 33,
     "metadata": {},
     "output_type": "execute_result"
    }
   ],
   "source": [
    "pest['PEST_SEVERITY'].unique()"
   ]
  },
  {
   "cell_type": "code",
   "execution_count": 34,
   "id": "c46c451a",
   "metadata": {},
   "outputs": [
    {
     "data": {
      "text/plain": [
       "array(['Fungus :  presence detected.', 'Slugs :  high infestation risk.',\n",
       "       'Other :  presence detected.', 'Slugs :  presence detected.',\n",
       "       'Fungus :  infestation found.', 'Mites :  infestation detected.',\n",
       "       'Mites :  high infestation risk.',\n",
       "       'Whiteflies :  presence detected.',\n",
       "       'Fungus :  infestation detected.', 'Slugs :  infestation deteced.',\n",
       "       'Caterpillars :  high infestation risk.',\n",
       "       'Fungus :  high infestation risk.',\n",
       "       'Whiteflies :  infestation detected.',\n",
       "       'Other :  infestation detected.',\n",
       "       'Caterpillars :  infestation found.',\n",
       "       'Mites :  presence detected.', 'Other :  infestation found.',\n",
       "       'Slugs :  infestation found.', 'Slogs :  presence detected.',\n",
       "       'Aphids :  high infestation risk.',\n",
       "       'Other :  high infestation risk.',\n",
       "       'Whiteflies :  infestation found.', 'Aphids :  infestation found.',\n",
       "       'Mites :  infestation found.', 'Aphids :  presence detected.',\n",
       "       'Caterpillars :  infestation detected.',\n",
       "       'Slogs :  infestation found.',\n",
       "       'Caterpillars :  presence detected.',\n",
       "       'Whiteflies :  high infestation risk.',\n",
       "       'Aphiods :  infestation detected.',\n",
       "       'Aphiods :  high infestation risk.',\n",
       "       'Slugs :  infestation detected.',\n",
       "       'Aphids :  infestation detected.',\n",
       "       'Slogs :  high infestation riskkk.',\n",
       "       'Slogs :  infestation detected.', 'Mites :  infestation deteced.',\n",
       "       'Caterpillars :  infestation deteced.'], dtype=object)"
      ]
     },
     "execution_count": 34,
     "metadata": {},
     "output_type": "execute_result"
    }
   ],
   "source": [
    "#typo found in description\n",
    "\n",
    "pest['PEST_DESCRIPTION'] = pest['PEST_DESCRIPTION'].replace('Aphiods :  high infestation risk.', 'Aphids :  high infestation risk.')\n",
    "\n",
    "pest['PEST_DESCRIPTION'] = pest['PEST_DESCRIPTION'].replace('Aphiods :  presence detected.', 'Aphids :  presence detected.')\n",
    "\n",
    "pest['PEST_DESCRIPTION'] = pest['PEST_DESCRIPTION'].replace('Aphiods :  infestation detected', 'Aphids :  infestation detected')\n",
    "\n",
    "pest['PEST_DESCRIPTION'] = pest['PEST_DESCRIPTION'].replace('Aphiods :  high infestation riskkk.', 'Aphiods :  high infestation risk.')\n",
    "\n",
    "pest['PEST_DESCRIPTION'] = pest['PEST_DESCRIPTION'].replace('Fungus :  high infestation riskkk.', 'Fungus :  high infestation risk.')\n",
    "\n",
    "pest['PEST_DESCRIPTION'] = pest['PEST_DESCRIPTION'].replace('Slugs :  high infestation riskkk.', 'Slugs :  high infestation risk.')\n",
    "\n",
    "pest['PEST_DESCRIPTION'] = pest['PEST_DESCRIPTION'].replace('Slogs :  high infestation risk.', 'Slugs :  high infestation risk.')\n",
    "\n",
    "pest['PEST_DESCRIPTION'] = pest['PEST_DESCRIPTION'].replace('Aphids :  high infestation riskkk.', 'Aphids :  high infestation risk.')\n",
    "\n",
    "pest['PEST_DESCRIPTION'] = pest['PEST_DESCRIPTION'].replace('Other :  high infestation riskkk.', 'Other :  high infestation risk.')\n",
    "\n",
    "pest['PEST_DESCRIPTION'] = pest['PEST_DESCRIPTION'].replace('Other :  infestation deteced.', 'Other :  infestation detected.')\n",
    "\n",
    "pest['PEST_DESCRIPTION'] = pest['PEST_DESCRIPTION'].replace('Mites :  high infestation riskkk.', 'Mites :  high infestation risk.')\n",
    "\n",
    "pest['PEST_DESCRIPTION'] = pest['PEST_DESCRIPTION'].replace('Caterpillars :  high infestation riskkk.', 'Caterpillars :  high infestation risk.')\n",
    "\n",
    "pest['PEST_DESCRIPTION'] = pest['PEST_DESCRIPTION'].replace('Whiteflies :  infestation deteced.', 'Whiteflies :  infestation detected.')\n",
    "\n",
    "pest['PEST_DESCRIPTION'] = pest['PEST_DESCRIPTION'].replace('Whiteflies :  high infestation riskkk.', 'Whiteflies :  high infestation risk.')\n",
    "\n",
    "pest['PEST_DESCRIPTION'] = pest['PEST_DESCRIPTION'].replace('Slogs :  infestation deteced.', 'Slugs :  infestation detected.')\n",
    "\n",
    "pest['PEST_DESCRIPTION'] = pest['PEST_DESCRIPTION'].replace('Aphiods :  infestation deteced.', 'Aphiods :  infestation detected.')\n",
    "\n",
    "pest['PEST_DESCRIPTION'] = pest['PEST_DESCRIPTION'].replace('Aphids :  infestation deteced.', 'Aphids :  infestation detected.')\n",
    "\n",
    "pest['PEST_DESCRIPTION'] = pest['PEST_DESCRIPTION'].replace('Aphiods :  infestation found.', 'Aphids :  infestation found.')\n",
    "\n",
    "pest['PEST_DESCRIPTION'] = pest['PEST_DESCRIPTION'].replace('Fungus :  infestation deteced.', 'Fungus :  infestation detected.')\n",
    "\n",
    "pest['PEST_DESCRIPTION'].unique()"
   ]
  },
  {
   "cell_type": "code",
   "execution_count": 35,
   "id": "38128457",
   "metadata": {},
   "outputs": [
    {
     "data": {
      "text/plain": [
       "array(['Fungus :  presence detected.', 'Slugs :  high infestation risk.',\n",
       "       'Other :  presence detected.', 'Slugs :  presence detected.',\n",
       "       'Fungus :  infestation found.', 'Mites :  infestation detected.',\n",
       "       'Mites :  high infestation risk.',\n",
       "       'Whiteflies :  presence detected.',\n",
       "       'Fungus :  infestation detected.',\n",
       "       'Slugs :  infestation detected. ',\n",
       "       'Caterpillars :  high infestation risk.',\n",
       "       'Fungus :  high infestation risk.',\n",
       "       'Whiteflies :  infestation detected.',\n",
       "       'Other :  infestation detected.',\n",
       "       'Caterpillars :  infestation found.',\n",
       "       'Mites :  presence detected.', 'Other :  infestation found.',\n",
       "       'Slugs :  infestation found.', 'Slogs :  presence detected.',\n",
       "       'Aphids :  high infestation risk.',\n",
       "       'Other :  high infestation risk.',\n",
       "       'Whiteflies :  infestation found.', 'Aphids :  infestation found.',\n",
       "       'Mites :  infestation found.', 'Aphids :  presence detected.',\n",
       "       'Caterpillars :  infestation detected.',\n",
       "       'Slogs :  infestation found.',\n",
       "       'Caterpillars :  presence detected.',\n",
       "       'Whiteflies :  high infestation risk.',\n",
       "       'Aphids :  infestation detected. ',\n",
       "       'Aphids :  high infestation risk. ',\n",
       "       'Slugs :  infestation detected.',\n",
       "       'Aphids :  infestation detected.',\n",
       "       'Slugs :  high infestation risk. ',\n",
       "       'Mites :  infestation detected. ',\n",
       "       'Caterpillars :  infestation detected. '], dtype=object)"
      ]
     },
     "execution_count": 35,
     "metadata": {},
     "output_type": "execute_result"
    }
   ],
   "source": [
    "pest['PEST_DESCRIPTION'] = pest['PEST_DESCRIPTION'].replace('Slugs :  infestation deteced.', 'Slugs :  infestation detected. ')\n",
    "\n",
    "pest['PEST_DESCRIPTION'] = pest['PEST_DESCRIPTION'].replace('Aphiods :  infestation detected.', 'Aphids :  infestation detected. ')\n",
    "\n",
    "pest['PEST_DESCRIPTION'] = pest['PEST_DESCRIPTION'].replace('Aphiods :  high infestation risk.', 'Aphids :  high infestation risk. ')\n",
    "\n",
    "pest['PEST_DESCRIPTION'] = pest['PEST_DESCRIPTION'].replace('Slogs :  high infestation riskkk.', 'Slugs :  high infestation risk. ')\n",
    "\n",
    "pest['PEST_DESCRIPTION'] = pest['PEST_DESCRIPTION'].replace('Slogs :  infestation detected.', 'Slugs :  infestation detected. ')\n",
    "\n",
    "pest['PEST_DESCRIPTION'] = pest['PEST_DESCRIPTION'].replace('Mites :  infestation deteced.', 'Mites :  infestation detected. ')\n",
    "\n",
    "pest['PEST_DESCRIPTION'] = pest['PEST_DESCRIPTION'].replace('Caterpillars :  infestation deteced.', 'Caterpillars :  infestation detected. ')\n",
    "\n",
    "pest['PEST_DESCRIPTION'].unique()\n",
    "\n",
    "\n"
   ]
  },
  {
   "cell_type": "code",
   "execution_count": 36,
   "id": "e199c266",
   "metadata": {},
   "outputs": [
    {
     "data": {
      "text/plain": [
       "array(['High', 'Low', 'Medium', 'Hihg'], dtype=object)"
      ]
     },
     "execution_count": 36,
     "metadata": {},
     "output_type": "execute_result"
    }
   ],
   "source": [
    "pest['PEST_SEVERITY'].unique()\n"
   ]
  },
  {
   "cell_type": "code",
   "execution_count": 37,
   "id": "5f4c5d97",
   "metadata": {},
   "outputs": [
    {
     "data": {
      "text/plain": [
       "array(['High', 'Low', 'Medium'], dtype=object)"
      ]
     },
     "execution_count": 37,
     "metadata": {},
     "output_type": "execute_result"
    }
   ],
   "source": [
    "pest['PEST_SEVERITY'] = pest['PEST_SEVERITY'].replace('Hihg', 'High')\n",
    "pest['PEST_SEVERITY'].unique()\n"
   ]
  },
  {
   "cell_type": "markdown",
   "id": "04649422",
   "metadata": {},
   "source": [
    "# working on sensor"
   ]
  },
  {
   "cell_type": "code",
   "execution_count": 38,
   "id": "4b395d25",
   "metadata": {},
   "outputs": [
    {
     "data": {
      "text/html": [
       "<div>\n",
       "<style scoped>\n",
       "    .dataframe tbody tr th:only-of-type {\n",
       "        vertical-align: middle;\n",
       "    }\n",
       "\n",
       "    .dataframe tbody tr th {\n",
       "        vertical-align: top;\n",
       "    }\n",
       "\n",
       "    .dataframe thead th {\n",
       "        text-align: right;\n",
       "    }\n",
       "</style>\n",
       "<table border=\"1\" class=\"dataframe\">\n",
       "  <thead>\n",
       "    <tr style=\"text-align: right;\">\n",
       "      <th></th>\n",
       "      <th>SENSOR_ID</th>\n",
       "      <th>TIMESTAMP</th>\n",
       "      <th>TEMPERATURE</th>\n",
       "      <th>HUMIDITY</th>\n",
       "      <th>SOIL_MOISTURE</th>\n",
       "      <th>LIGHT_INTENSITY</th>\n",
       "      <th>BATTERY_LEVEL</th>\n",
       "    </tr>\n",
       "  </thead>\n",
       "  <tbody>\n",
       "    <tr>\n",
       "      <th>0</th>\n",
       "      <td>\"S523\"</td>\n",
       "      <td>\"2023-08-22 13:39:14\"</td>\n",
       "      <td>26.1</td>\n",
       "      <td>50.3</td>\n",
       "      <td>40.4</td>\n",
       "      <td>7988.0</td>\n",
       "      <td>92.4</td>\n",
       "    </tr>\n",
       "    <tr>\n",
       "      <th>1</th>\n",
       "      <td>\"S189\"</td>\n",
       "      <td>\"2023-01-11 18:18:36\"</td>\n",
       "      <td>28.2</td>\n",
       "      <td>48.1</td>\n",
       "      <td>25.2</td>\n",
       "      <td>6640.0</td>\n",
       "      <td>87.3</td>\n",
       "    </tr>\n",
       "    <tr>\n",
       "      <th>2</th>\n",
       "      <td>\"S662\"</td>\n",
       "      <td>\"2023-02-26 20:56:57\"</td>\n",
       "      <td>30.4</td>\n",
       "      <td>45.9</td>\n",
       "      <td>31.5</td>\n",
       "      <td>4334.0</td>\n",
       "      <td>99.3</td>\n",
       "    </tr>\n",
       "    <tr>\n",
       "      <th>3</th>\n",
       "      <td>\"S726\"</td>\n",
       "      <td>\"2023-07-21 17:24:46\"</td>\n",
       "      <td>29.6</td>\n",
       "      <td>59.7</td>\n",
       "      <td>20.6</td>\n",
       "      <td>3715.0</td>\n",
       "      <td>77.2</td>\n",
       "    </tr>\n",
       "    <tr>\n",
       "      <th>4</th>\n",
       "      <td>\"S102\"</td>\n",
       "      <td>\"2023-02-08 01:52:58\"</td>\n",
       "      <td>30.5</td>\n",
       "      <td>43.2</td>\n",
       "      <td>41.4</td>\n",
       "      <td>NaN</td>\n",
       "      <td>95.9</td>\n",
       "    </tr>\n",
       "  </tbody>\n",
       "</table>\n",
       "</div>"
      ],
      "text/plain": [
       "  SENSOR_ID              TIMESTAMP  TEMPERATURE  HUMIDITY  SOIL_MOISTURE  \\\n",
       "0    \"S523\"  \"2023-08-22 13:39:14\"         26.1      50.3           40.4   \n",
       "1    \"S189\"  \"2023-01-11 18:18:36\"         28.2      48.1           25.2   \n",
       "2    \"S662\"  \"2023-02-26 20:56:57\"         30.4      45.9           31.5   \n",
       "3    \"S726\"  \"2023-07-21 17:24:46\"         29.6      59.7           20.6   \n",
       "4    \"S102\"  \"2023-02-08 01:52:58\"         30.5      43.2           41.4   \n",
       "\n",
       "   LIGHT_INTENSITY  BATTERY_LEVEL  \n",
       "0           7988.0           92.4  \n",
       "1           6640.0           87.3  \n",
       "2           4334.0           99.3  \n",
       "3           3715.0           77.2  \n",
       "4              NaN           95.9  "
      ]
     },
     "execution_count": 38,
     "metadata": {},
     "output_type": "execute_result"
    }
   ],
   "source": [
    "sensor.head()"
   ]
  },
  {
   "cell_type": "code",
   "execution_count": 39,
   "id": "c10ee12f",
   "metadata": {},
   "outputs": [],
   "source": [
    "sensor['SENSOR_ID'] = sensor['SENSOR_ID'].str.strip('\"')"
   ]
  },
  {
   "cell_type": "code",
   "execution_count": 40,
   "id": "df646acb",
   "metadata": {},
   "outputs": [
    {
     "data": {
      "text/html": [
       "<div>\n",
       "<style scoped>\n",
       "    .dataframe tbody tr th:only-of-type {\n",
       "        vertical-align: middle;\n",
       "    }\n",
       "\n",
       "    .dataframe tbody tr th {\n",
       "        vertical-align: top;\n",
       "    }\n",
       "\n",
       "    .dataframe thead th {\n",
       "        text-align: right;\n",
       "    }\n",
       "</style>\n",
       "<table border=\"1\" class=\"dataframe\">\n",
       "  <thead>\n",
       "    <tr style=\"text-align: right;\">\n",
       "      <th></th>\n",
       "      <th>SENSOR_ID</th>\n",
       "      <th>TIMESTAMP</th>\n",
       "      <th>TEMPERATURE</th>\n",
       "      <th>HUMIDITY</th>\n",
       "      <th>SOIL_MOISTURE</th>\n",
       "      <th>LIGHT_INTENSITY</th>\n",
       "      <th>BATTERY_LEVEL</th>\n",
       "    </tr>\n",
       "  </thead>\n",
       "  <tbody>\n",
       "    <tr>\n",
       "      <th>0</th>\n",
       "      <td>S523</td>\n",
       "      <td>\"2023-08-22 13:39:14\"</td>\n",
       "      <td>26.1</td>\n",
       "      <td>50.3</td>\n",
       "      <td>40.4</td>\n",
       "      <td>7988.0</td>\n",
       "      <td>92.4</td>\n",
       "    </tr>\n",
       "    <tr>\n",
       "      <th>1</th>\n",
       "      <td>S189</td>\n",
       "      <td>\"2023-01-11 18:18:36\"</td>\n",
       "      <td>28.2</td>\n",
       "      <td>48.1</td>\n",
       "      <td>25.2</td>\n",
       "      <td>6640.0</td>\n",
       "      <td>87.3</td>\n",
       "    </tr>\n",
       "    <tr>\n",
       "      <th>2</th>\n",
       "      <td>S662</td>\n",
       "      <td>\"2023-02-26 20:56:57\"</td>\n",
       "      <td>30.4</td>\n",
       "      <td>45.9</td>\n",
       "      <td>31.5</td>\n",
       "      <td>4334.0</td>\n",
       "      <td>99.3</td>\n",
       "    </tr>\n",
       "    <tr>\n",
       "      <th>3</th>\n",
       "      <td>S726</td>\n",
       "      <td>\"2023-07-21 17:24:46\"</td>\n",
       "      <td>29.6</td>\n",
       "      <td>59.7</td>\n",
       "      <td>20.6</td>\n",
       "      <td>3715.0</td>\n",
       "      <td>77.2</td>\n",
       "    </tr>\n",
       "    <tr>\n",
       "      <th>4</th>\n",
       "      <td>S102</td>\n",
       "      <td>\"2023-02-08 01:52:58\"</td>\n",
       "      <td>30.5</td>\n",
       "      <td>43.2</td>\n",
       "      <td>41.4</td>\n",
       "      <td>NaN</td>\n",
       "      <td>95.9</td>\n",
       "    </tr>\n",
       "  </tbody>\n",
       "</table>\n",
       "</div>"
      ],
      "text/plain": [
       "  SENSOR_ID              TIMESTAMP  TEMPERATURE  HUMIDITY  SOIL_MOISTURE  \\\n",
       "0      S523  \"2023-08-22 13:39:14\"         26.1      50.3           40.4   \n",
       "1      S189  \"2023-01-11 18:18:36\"         28.2      48.1           25.2   \n",
       "2      S662  \"2023-02-26 20:56:57\"         30.4      45.9           31.5   \n",
       "3      S726  \"2023-07-21 17:24:46\"         29.6      59.7           20.6   \n",
       "4      S102  \"2023-02-08 01:52:58\"         30.5      43.2           41.4   \n",
       "\n",
       "   LIGHT_INTENSITY  BATTERY_LEVEL  \n",
       "0           7988.0           92.4  \n",
       "1           6640.0           87.3  \n",
       "2           4334.0           99.3  \n",
       "3           3715.0           77.2  \n",
       "4              NaN           95.9  "
      ]
     },
     "execution_count": 40,
     "metadata": {},
     "output_type": "execute_result"
    }
   ],
   "source": [
    "sensor.head()"
   ]
  },
  {
   "cell_type": "code",
   "execution_count": 41,
   "id": "f9b48e4f",
   "metadata": {},
   "outputs": [],
   "source": [
    "sensor['TIMESTAMP'] = sensor['TIMESTAMP'].str.strip('\"')\n",
    "\n",
    "sensor['TIMESTAMP']=pd.to_datetime(sensor['TIMESTAMP'])"
   ]
  },
  {
   "cell_type": "code",
   "execution_count": 42,
   "id": "071a7c75",
   "metadata": {},
   "outputs": [
    {
     "data": {
      "text/html": [
       "<div>\n",
       "<style scoped>\n",
       "    .dataframe tbody tr th:only-of-type {\n",
       "        vertical-align: middle;\n",
       "    }\n",
       "\n",
       "    .dataframe tbody tr th {\n",
       "        vertical-align: top;\n",
       "    }\n",
       "\n",
       "    .dataframe thead th {\n",
       "        text-align: right;\n",
       "    }\n",
       "</style>\n",
       "<table border=\"1\" class=\"dataframe\">\n",
       "  <thead>\n",
       "    <tr style=\"text-align: right;\">\n",
       "      <th></th>\n",
       "      <th>SENSOR_ID</th>\n",
       "      <th>TIMESTAMP</th>\n",
       "      <th>TEMPERATURE</th>\n",
       "      <th>HUMIDITY</th>\n",
       "      <th>SOIL_MOISTURE</th>\n",
       "      <th>LIGHT_INTENSITY</th>\n",
       "      <th>BATTERY_LEVEL</th>\n",
       "    </tr>\n",
       "  </thead>\n",
       "  <tbody>\n",
       "    <tr>\n",
       "      <th>0</th>\n",
       "      <td>S523</td>\n",
       "      <td>2023-08-22 13:39:14</td>\n",
       "      <td>26.1</td>\n",
       "      <td>50.3</td>\n",
       "      <td>40.4</td>\n",
       "      <td>7988.0</td>\n",
       "      <td>92.4</td>\n",
       "    </tr>\n",
       "    <tr>\n",
       "      <th>1</th>\n",
       "      <td>S189</td>\n",
       "      <td>2023-01-11 18:18:36</td>\n",
       "      <td>28.2</td>\n",
       "      <td>48.1</td>\n",
       "      <td>25.2</td>\n",
       "      <td>6640.0</td>\n",
       "      <td>87.3</td>\n",
       "    </tr>\n",
       "    <tr>\n",
       "      <th>2</th>\n",
       "      <td>S662</td>\n",
       "      <td>2023-02-26 20:56:57</td>\n",
       "      <td>30.4</td>\n",
       "      <td>45.9</td>\n",
       "      <td>31.5</td>\n",
       "      <td>4334.0</td>\n",
       "      <td>99.3</td>\n",
       "    </tr>\n",
       "    <tr>\n",
       "      <th>3</th>\n",
       "      <td>S726</td>\n",
       "      <td>2023-07-21 17:24:46</td>\n",
       "      <td>29.6</td>\n",
       "      <td>59.7</td>\n",
       "      <td>20.6</td>\n",
       "      <td>3715.0</td>\n",
       "      <td>77.2</td>\n",
       "    </tr>\n",
       "    <tr>\n",
       "      <th>4</th>\n",
       "      <td>S102</td>\n",
       "      <td>2023-02-08 01:52:58</td>\n",
       "      <td>30.5</td>\n",
       "      <td>43.2</td>\n",
       "      <td>41.4</td>\n",
       "      <td>NaN</td>\n",
       "      <td>95.9</td>\n",
       "    </tr>\n",
       "  </tbody>\n",
       "</table>\n",
       "</div>"
      ],
      "text/plain": [
       "  SENSOR_ID           TIMESTAMP  TEMPERATURE  HUMIDITY  SOIL_MOISTURE  \\\n",
       "0      S523 2023-08-22 13:39:14         26.1      50.3           40.4   \n",
       "1      S189 2023-01-11 18:18:36         28.2      48.1           25.2   \n",
       "2      S662 2023-02-26 20:56:57         30.4      45.9           31.5   \n",
       "3      S726 2023-07-21 17:24:46         29.6      59.7           20.6   \n",
       "4      S102 2023-02-08 01:52:58         30.5      43.2           41.4   \n",
       "\n",
       "   LIGHT_INTENSITY  BATTERY_LEVEL  \n",
       "0           7988.0           92.4  \n",
       "1           6640.0           87.3  \n",
       "2           4334.0           99.3  \n",
       "3           3715.0           77.2  \n",
       "4              NaN           95.9  "
      ]
     },
     "execution_count": 42,
     "metadata": {},
     "output_type": "execute_result"
    }
   ],
   "source": [
    "sensor.head()"
   ]
  },
  {
   "cell_type": "code",
   "execution_count": 43,
   "id": "3076a5d9",
   "metadata": {},
   "outputs": [],
   "source": [
    "sensor['Average'] = sensor.groupby('SENSOR_ID')['TEMPERATURE'].transform('mean')\n",
    "sensor['TEMPERATURE'].fillna(sensor['Average'], inplace=True)\n",
    "sensor.drop(columns=['Average'], inplace=True)\n",
    "\n",
    "sensor['Average'] = sensor.groupby('SENSOR_ID')['HUMIDITY'].transform('mean')\n",
    "sensor['HUMIDITY'].fillna(sensor['Average'], inplace=True)\n",
    "sensor.drop(columns=['Average'], inplace=True)\n",
    "\n",
    "sensor['Average'] = sensor.groupby('SENSOR_ID')['SOIL_MOISTURE'].transform('mean')\n",
    "sensor['SOIL_MOISTURE'].fillna(sensor['Average'], inplace=True)\n",
    "sensor.drop(columns=['Average'], inplace=True)\n",
    "\n",
    "sensor['Average'] = sensor.groupby('SENSOR_ID')['LIGHT_INTENSITY'].transform('mean')\n",
    "sensor['LIGHT_INTENSITY'].fillna(sensor['Average'], inplace=True)\n",
    "sensor.drop(columns=['Average'], inplace=True)\n",
    "\n",
    "sensor['Average'] = sensor.groupby('SENSOR_ID')['BATTERY_LEVEL'].transform('mean')\n",
    "sensor['BATTERY_LEVEL'].fillna(sensor['Average'], inplace=True)\n",
    "sensor.drop(columns=['Average'], inplace=True)\n"
   ]
  },
  {
   "cell_type": "code",
   "execution_count": 44,
   "id": "067e71fe",
   "metadata": {},
   "outputs": [
    {
     "data": {
      "text/html": [
       "<div>\n",
       "<style scoped>\n",
       "    .dataframe tbody tr th:only-of-type {\n",
       "        vertical-align: middle;\n",
       "    }\n",
       "\n",
       "    .dataframe tbody tr th {\n",
       "        vertical-align: top;\n",
       "    }\n",
       "\n",
       "    .dataframe thead th {\n",
       "        text-align: right;\n",
       "    }\n",
       "</style>\n",
       "<table border=\"1\" class=\"dataframe\">\n",
       "  <thead>\n",
       "    <tr style=\"text-align: right;\">\n",
       "      <th></th>\n",
       "      <th>SENSOR_ID</th>\n",
       "      <th>TIMESTAMP</th>\n",
       "      <th>TEMPERATURE</th>\n",
       "      <th>HUMIDITY</th>\n",
       "      <th>SOIL_MOISTURE</th>\n",
       "      <th>LIGHT_INTENSITY</th>\n",
       "      <th>BATTERY_LEVEL</th>\n",
       "    </tr>\n",
       "  </thead>\n",
       "  <tbody>\n",
       "    <tr>\n",
       "      <th>0</th>\n",
       "      <td>S523</td>\n",
       "      <td>2023-08-22 13:39:14</td>\n",
       "      <td>26.1</td>\n",
       "      <td>50.3</td>\n",
       "      <td>40.4</td>\n",
       "      <td>7988.000000</td>\n",
       "      <td>92.4</td>\n",
       "    </tr>\n",
       "    <tr>\n",
       "      <th>1</th>\n",
       "      <td>S189</td>\n",
       "      <td>2023-01-11 18:18:36</td>\n",
       "      <td>28.2</td>\n",
       "      <td>48.1</td>\n",
       "      <td>25.2</td>\n",
       "      <td>6640.000000</td>\n",
       "      <td>87.3</td>\n",
       "    </tr>\n",
       "    <tr>\n",
       "      <th>2</th>\n",
       "      <td>S662</td>\n",
       "      <td>2023-02-26 20:56:57</td>\n",
       "      <td>30.4</td>\n",
       "      <td>45.9</td>\n",
       "      <td>31.5</td>\n",
       "      <td>4334.000000</td>\n",
       "      <td>99.3</td>\n",
       "    </tr>\n",
       "    <tr>\n",
       "      <th>3</th>\n",
       "      <td>S726</td>\n",
       "      <td>2023-07-21 17:24:46</td>\n",
       "      <td>29.6</td>\n",
       "      <td>59.7</td>\n",
       "      <td>20.6</td>\n",
       "      <td>3715.000000</td>\n",
       "      <td>77.2</td>\n",
       "    </tr>\n",
       "    <tr>\n",
       "      <th>4</th>\n",
       "      <td>S102</td>\n",
       "      <td>2023-02-08 01:52:58</td>\n",
       "      <td>30.5</td>\n",
       "      <td>43.2</td>\n",
       "      <td>41.4</td>\n",
       "      <td>5965.492435</td>\n",
       "      <td>95.9</td>\n",
       "    </tr>\n",
       "  </tbody>\n",
       "</table>\n",
       "</div>"
      ],
      "text/plain": [
       "  SENSOR_ID           TIMESTAMP  TEMPERATURE  HUMIDITY  SOIL_MOISTURE  \\\n",
       "0      S523 2023-08-22 13:39:14         26.1      50.3           40.4   \n",
       "1      S189 2023-01-11 18:18:36         28.2      48.1           25.2   \n",
       "2      S662 2023-02-26 20:56:57         30.4      45.9           31.5   \n",
       "3      S726 2023-07-21 17:24:46         29.6      59.7           20.6   \n",
       "4      S102 2023-02-08 01:52:58         30.5      43.2           41.4   \n",
       "\n",
       "   LIGHT_INTENSITY  BATTERY_LEVEL  \n",
       "0      7988.000000           92.4  \n",
       "1      6640.000000           87.3  \n",
       "2      4334.000000           99.3  \n",
       "3      3715.000000           77.2  \n",
       "4      5965.492435           95.9  "
      ]
     },
     "execution_count": 44,
     "metadata": {},
     "output_type": "execute_result"
    }
   ],
   "source": [
    "sensor.head()"
   ]
  },
  {
   "cell_type": "markdown",
   "id": "a7ab1a4f",
   "metadata": {},
   "source": [
    "# working on soil"
   ]
  },
  {
   "cell_type": "code",
   "execution_count": 45,
   "id": "c1154184",
   "metadata": {},
   "outputs": [
    {
     "data": {
      "text/html": [
       "<div>\n",
       "<style scoped>\n",
       "    .dataframe tbody tr th:only-of-type {\n",
       "        vertical-align: middle;\n",
       "    }\n",
       "\n",
       "    .dataframe tbody tr th {\n",
       "        vertical-align: top;\n",
       "    }\n",
       "\n",
       "    .dataframe thead th {\n",
       "        text-align: right;\n",
       "    }\n",
       "</style>\n",
       "<table border=\"1\" class=\"dataframe\">\n",
       "  <thead>\n",
       "    <tr style=\"text-align: right;\">\n",
       "      <th></th>\n",
       "      <th>TIMESTAMP</th>\n",
       "      <th>SOIL_COMP</th>\n",
       "      <th>SOIL_MOISTURE</th>\n",
       "      <th>SOIL_PH</th>\n",
       "      <th>NITROGEN_LEVEL</th>\n",
       "      <th>PHOSPHORUS_LEVEL</th>\n",
       "      <th>ORGANIC_MATTER</th>\n",
       "    </tr>\n",
       "  </thead>\n",
       "  <tbody>\n",
       "    <tr>\n",
       "      <th>0</th>\n",
       "      <td>6/24/2023 14:37</td>\n",
       "      <td>31.86</td>\n",
       "      <td>28.5</td>\n",
       "      <td>5.76</td>\n",
       "      <td>13.91</td>\n",
       "      <td>3.80</td>\n",
       "      <td>5.17</td>\n",
       "    </tr>\n",
       "    <tr>\n",
       "      <th>1</th>\n",
       "      <td>1/14/2023 0:57</td>\n",
       "      <td>59.36</td>\n",
       "      <td>29.2</td>\n",
       "      <td>7.84</td>\n",
       "      <td>16.58</td>\n",
       "      <td>4.00</td>\n",
       "      <td>1.70</td>\n",
       "    </tr>\n",
       "    <tr>\n",
       "      <th>2</th>\n",
       "      <td>3/14/2023 14:40</td>\n",
       "      <td>13.26</td>\n",
       "      <td>32.4</td>\n",
       "      <td>4.39</td>\n",
       "      <td>7.10</td>\n",
       "      <td>8.93</td>\n",
       "      <td>3.46</td>\n",
       "    </tr>\n",
       "    <tr>\n",
       "      <th>3</th>\n",
       "      <td>5/28/2023 18:17</td>\n",
       "      <td>23.45</td>\n",
       "      <td>23.4</td>\n",
       "      <td>4.25</td>\n",
       "      <td>8.63</td>\n",
       "      <td>3.13</td>\n",
       "      <td>5.26</td>\n",
       "    </tr>\n",
       "    <tr>\n",
       "      <th>4</th>\n",
       "      <td>12/31/2022 10:39</td>\n",
       "      <td>46.32</td>\n",
       "      <td>58.3</td>\n",
       "      <td>5.76</td>\n",
       "      <td>NaN</td>\n",
       "      <td>NaN</td>\n",
       "      <td>8.35</td>\n",
       "    </tr>\n",
       "  </tbody>\n",
       "</table>\n",
       "</div>"
      ],
      "text/plain": [
       "          TIMESTAMP  SOIL_COMP  SOIL_MOISTURE  SOIL_PH  NITROGEN_LEVEL  \\\n",
       "0   6/24/2023 14:37      31.86           28.5     5.76           13.91   \n",
       "1    1/14/2023 0:57      59.36           29.2     7.84           16.58   \n",
       "2   3/14/2023 14:40      13.26           32.4     4.39            7.10   \n",
       "3   5/28/2023 18:17      23.45           23.4     4.25            8.63   \n",
       "4  12/31/2022 10:39      46.32           58.3     5.76             NaN   \n",
       "\n",
       "   PHOSPHORUS_LEVEL  ORGANIC_MATTER  \n",
       "0              3.80            5.17  \n",
       "1              4.00            1.70  \n",
       "2              8.93            3.46  \n",
       "3              3.13            5.26  \n",
       "4               NaN            8.35  "
      ]
     },
     "execution_count": 45,
     "metadata": {},
     "output_type": "execute_result"
    }
   ],
   "source": [
    "soil.head()"
   ]
  },
  {
   "cell_type": "code",
   "execution_count": 46,
   "id": "3e428a14",
   "metadata": {},
   "outputs": [],
   "source": [
    "soil['TIMESTAMP']=pd.to_datetime(soil['TIMESTAMP'])"
   ]
  },
  {
   "cell_type": "code",
   "execution_count": 47,
   "id": "c00ae2dc",
   "metadata": {},
   "outputs": [
    {
     "name": "stderr",
     "output_type": "stream",
     "text": [
      "/var/folders/43/4fpb2szs56d8v5kf33sc9w500000gn/T/ipykernel_36081/2532271962.py:1: FutureWarning: DataFrame.mean and DataFrame.median with numeric_only=None will include datetime64 and datetime64tz columns in a future version.\n",
      "  soil_mean=soil.mean()\n"
     ]
    }
   ],
   "source": [
    "soil_mean=soil.mean()\n",
    "\n",
    "soil.fillna(soil_mean, inplace=True)\n",
    "\n",
    "soil.head()\n",
    "chunk_size = 10000"
   ]
  },
  {
   "cell_type": "code",
   "execution_count": 48,
   "id": "49bf5c0a",
   "metadata": {},
   "outputs": [],
   "source": [
    "# chunk_size = 500000\n",
    "\n",
    "# chunks = [crop[i:i + chunk_size] for i in range(0, len(crop), chunk_size)]\n",
    "\n",
    "# # Write each chunk to a separate CSV file\n",
    "# for i, chunk in enumerate(chunks):\n",
    "#     chunk.to_csv(f'crop_clean_{i}.csv', index=False)\n",
    "\n"
   ]
  },
  {
   "cell_type": "code",
   "execution_count": 49,
   "id": "d7740e08",
   "metadata": {},
   "outputs": [],
   "source": [
    "# chunk_size = 500000\n",
    "\n",
    "# chunks = [location[i:i + chunk_size] for i in range(0, len(location), chunk_size)]\n",
    "\n",
    "# # Write each chunk to a separate CSV file\n",
    "# for i, chunk in enumerate(chunks):\n",
    "#     chunk.to_csv(f'location_clean_{i}.csv', index=False)\n",
    "\n"
   ]
  },
  {
   "cell_type": "code",
   "execution_count": 50,
   "id": "1b22080a",
   "metadata": {},
   "outputs": [],
   "source": [
    "# chunk_size = 500000\n",
    "\n",
    "# chunks = [pest[i:i + chunk_size] for i in range(0, len(pest), chunk_size)]\n",
    "\n",
    "# # Write each chunk to a separate CSV file\n",
    "# for i, chunk in enumerate(chunks):\n",
    "#     chunk.to_csv(f'pest_clean_{i}.csv', index=False)"
   ]
  },
  {
   "cell_type": "code",
   "execution_count": 51,
   "id": "83e8ea9f",
   "metadata": {},
   "outputs": [],
   "source": [
    "# chunk_size = 500000\n",
    "\n",
    "# chunks = [sensor[i:i + chunk_size] for i in range(0, len(sensor), chunk_size)]\n",
    "\n",
    "# # Write each chunk to a separate CSV file\n",
    "# for i, chunk in enumerate(chunks):\n",
    "#     chunk.to_csv(f'sensor_clean_{i}.csv', index=False)"
   ]
  },
  {
   "cell_type": "code",
   "execution_count": 52,
   "id": "69866511",
   "metadata": {},
   "outputs": [],
   "source": [
    "# chunk_size = 500000\n",
    "\n",
    "# chunks = [soil[i:i + chunk_size] for i in range(0, len(soil), chunk_size)]\n",
    "\n",
    "# # Write each chunk to a separate CSV file\n",
    "# for i, chunk in enumerate(chunks):\n",
    "#     chunk.to_csv(f'soil_clean_{i}.csv', index=False)"
   ]
  },
  {
   "cell_type": "code",
   "execution_count": 53,
   "id": "815aac0e",
   "metadata": {},
   "outputs": [],
   "source": [
    "# chunk_size = 500000\n",
    "\n",
    "# chunks = [weather[i:i + chunk_size] for i in range(0, len(weather), chunk_size)]\n",
    "\n",
    "# # Write each chunk to a separate CSV file\n",
    "# for i, chunk in enumerate(chunks):\n",
    "#     chunk.to_csv(f'weather_clean_{i}.csv', index=False)"
   ]
  },
  {
   "cell_type": "code",
   "execution_count": 54,
   "id": "5b42add5",
   "metadata": {},
   "outputs": [],
   "source": [
    "# crop.to_csv('crop_clean.csv')\n",
    "\n",
    "# location.to_csv('location_clean.csv')\n",
    "\n",
    "# pest.to_csv('pest_clean.csv')\n",
    "\n",
    "# sensor.to_csv('sensor_clean.csv')\n",
    "\n",
    "# soil.to_csv('soil_clean.csv')\n",
    "\n",
    "# weather.to_csv('weather_clean.csv')"
   ]
  },
  {
   "cell_type": "code",
   "execution_count": 55,
   "id": "e1ae9c9a",
   "metadata": {},
   "outputs": [
    {
     "data": {
      "text/html": [
       "<div>\n",
       "<style scoped>\n",
       "    .dataframe tbody tr th:only-of-type {\n",
       "        vertical-align: middle;\n",
       "    }\n",
       "\n",
       "    .dataframe tbody tr th {\n",
       "        vertical-align: top;\n",
       "    }\n",
       "\n",
       "    .dataframe thead th {\n",
       "        text-align: right;\n",
       "    }\n",
       "</style>\n",
       "<table border=\"1\" class=\"dataframe\">\n",
       "  <thead>\n",
       "    <tr style=\"text-align: right;\">\n",
       "      <th></th>\n",
       "      <th>TIMESTAMP</th>\n",
       "      <th>WEATHER_CONDITION</th>\n",
       "      <th>WIND_SPEED</th>\n",
       "      <th>PRECIPITATION</th>\n",
       "    </tr>\n",
       "  </thead>\n",
       "  <tbody>\n",
       "    <tr>\n",
       "      <th>0</th>\n",
       "      <td>6/24/2023 14:37</td>\n",
       "      <td>Fog</td>\n",
       "      <td>22.9</td>\n",
       "      <td>8.87</td>\n",
       "    </tr>\n",
       "    <tr>\n",
       "      <th>1</th>\n",
       "      <td>1/14/2023 0:57</td>\n",
       "      <td>Clear</td>\n",
       "      <td>8.8</td>\n",
       "      <td>7.63</td>\n",
       "    </tr>\n",
       "    <tr>\n",
       "      <th>2</th>\n",
       "      <td>3/14/2023 14:40</td>\n",
       "      <td>Mist</td>\n",
       "      <td>25.6</td>\n",
       "      <td>NaN</td>\n",
       "    </tr>\n",
       "    <tr>\n",
       "      <th>3</th>\n",
       "      <td>5/28/2023 18:17</td>\n",
       "      <td>Partly Cloudy</td>\n",
       "      <td>18.7</td>\n",
       "      <td>6.59</td>\n",
       "    </tr>\n",
       "    <tr>\n",
       "      <th>4</th>\n",
       "      <td>12/31/2022 10:39</td>\n",
       "      <td>NaN</td>\n",
       "      <td>0.3</td>\n",
       "      <td>3.27</td>\n",
       "    </tr>\n",
       "  </tbody>\n",
       "</table>\n",
       "</div>"
      ],
      "text/plain": [
       "          TIMESTAMP WEATHER_CONDITION  WIND_SPEED  PRECIPITATION\n",
       "0   6/24/2023 14:37               Fog        22.9           8.87\n",
       "1    1/14/2023 0:57             Clear         8.8           7.63\n",
       "2   3/14/2023 14:40              Mist        25.6            NaN\n",
       "3   5/28/2023 18:17     Partly Cloudy        18.7           6.59\n",
       "4  12/31/2022 10:39               NaN         0.3           3.27"
      ]
     },
     "execution_count": 55,
     "metadata": {},
     "output_type": "execute_result"
    }
   ],
   "source": [
    "weather.head()"
   ]
  },
  {
   "cell_type": "code",
   "execution_count": 56,
   "id": "82a25c31",
   "metadata": {},
   "outputs": [],
   "source": [
    "weather['TIMESTAMP']=pd.to_datetime(weather['TIMESTAMP'])"
   ]
  },
  {
   "cell_type": "code",
   "execution_count": 57,
   "id": "8860b982",
   "metadata": {},
   "outputs": [],
   "source": [
    "mode_value = weather['WEATHER_CONDITION'].mode()[0]\n",
    "weather['WEATHER_CONDITION'].fillna(mode_value, inplace=True)"
   ]
  },
  {
   "cell_type": "code",
   "execution_count": 58,
   "id": "25b1b65c",
   "metadata": {},
   "outputs": [
    {
     "data": {
      "text/html": [
       "<div>\n",
       "<style scoped>\n",
       "    .dataframe tbody tr th:only-of-type {\n",
       "        vertical-align: middle;\n",
       "    }\n",
       "\n",
       "    .dataframe tbody tr th {\n",
       "        vertical-align: top;\n",
       "    }\n",
       "\n",
       "    .dataframe thead th {\n",
       "        text-align: right;\n",
       "    }\n",
       "</style>\n",
       "<table border=\"1\" class=\"dataframe\">\n",
       "  <thead>\n",
       "    <tr style=\"text-align: right;\">\n",
       "      <th></th>\n",
       "      <th>TIMESTAMP</th>\n",
       "      <th>WEATHER_CONDITION</th>\n",
       "      <th>WIND_SPEED</th>\n",
       "      <th>PRECIPITATION</th>\n",
       "    </tr>\n",
       "  </thead>\n",
       "  <tbody>\n",
       "    <tr>\n",
       "      <th>2608635</th>\n",
       "      <td>2023-08-28 06:05:00</td>\n",
       "      <td>Fog</td>\n",
       "      <td>20.5</td>\n",
       "      <td>8.53</td>\n",
       "    </tr>\n",
       "    <tr>\n",
       "      <th>2608636</th>\n",
       "      <td>2023-06-01 16:14:00</td>\n",
       "      <td>Rain</td>\n",
       "      <td>13.3</td>\n",
       "      <td>0.52</td>\n",
       "    </tr>\n",
       "    <tr>\n",
       "      <th>2608637</th>\n",
       "      <td>2023-07-23 19:47:00</td>\n",
       "      <td>Clear</td>\n",
       "      <td>5.6</td>\n",
       "      <td>NaN</td>\n",
       "    </tr>\n",
       "    <tr>\n",
       "      <th>2608638</th>\n",
       "      <td>2022-11-10 08:59:00</td>\n",
       "      <td>Rain</td>\n",
       "      <td>21.4</td>\n",
       "      <td>1.55</td>\n",
       "    </tr>\n",
       "    <tr>\n",
       "      <th>2608639</th>\n",
       "      <td>2023-02-21 21:50:00</td>\n",
       "      <td>Thunderstorm</td>\n",
       "      <td>23.3</td>\n",
       "      <td>NaN</td>\n",
       "    </tr>\n",
       "  </tbody>\n",
       "</table>\n",
       "</div>"
      ],
      "text/plain": [
       "                  TIMESTAMP WEATHER_CONDITION  WIND_SPEED  PRECIPITATION\n",
       "2608635 2023-08-28 06:05:00               Fog        20.5           8.53\n",
       "2608636 2023-06-01 16:14:00              Rain        13.3           0.52\n",
       "2608637 2023-07-23 19:47:00             Clear         5.6            NaN\n",
       "2608638 2022-11-10 08:59:00              Rain        21.4           1.55\n",
       "2608639 2023-02-21 21:50:00      Thunderstorm        23.3            NaN"
      ]
     },
     "execution_count": 58,
     "metadata": {},
     "output_type": "execute_result"
    }
   ],
   "source": [
    "weather.tail()"
   ]
  },
  {
   "cell_type": "code",
   "execution_count": 59,
   "id": "58ee1e59",
   "metadata": {},
   "outputs": [],
   "source": [
    "weather['Average'] = weather.groupby('WEATHER_CONDITION')['WIND_SPEED'].transform('mean')\n",
    "weather['WIND_SPEED'].fillna(weather['Average'], inplace=True)\n",
    "weather.drop(columns=['Average'], inplace=True)\n",
    "\n",
    "\n",
    "weather['Average'] = weather.groupby('WEATHER_CONDITION')['PRECIPITATION'].transform('mean')\n",
    "weather['PRECIPITATION'].fillna(weather['Average'], inplace=True)\n",
    "weather.drop(columns=['Average'], inplace=True)"
   ]
  },
  {
   "cell_type": "code",
   "execution_count": 60,
   "id": "884f3c0b",
   "metadata": {},
   "outputs": [
    {
     "data": {
      "text/html": [
       "<div>\n",
       "<style scoped>\n",
       "    .dataframe tbody tr th:only-of-type {\n",
       "        vertical-align: middle;\n",
       "    }\n",
       "\n",
       "    .dataframe tbody tr th {\n",
       "        vertical-align: top;\n",
       "    }\n",
       "\n",
       "    .dataframe thead th {\n",
       "        text-align: right;\n",
       "    }\n",
       "</style>\n",
       "<table border=\"1\" class=\"dataframe\">\n",
       "  <thead>\n",
       "    <tr style=\"text-align: right;\">\n",
       "      <th></th>\n",
       "      <th>TIMESTAMP</th>\n",
       "      <th>WEATHER_CONDITION</th>\n",
       "      <th>WIND_SPEED</th>\n",
       "      <th>PRECIPITATION</th>\n",
       "    </tr>\n",
       "  </thead>\n",
       "  <tbody>\n",
       "    <tr>\n",
       "      <th>2608635</th>\n",
       "      <td>2023-08-28 06:05:00</td>\n",
       "      <td>Fog</td>\n",
       "      <td>20.5</td>\n",
       "      <td>8.530000</td>\n",
       "    </tr>\n",
       "    <tr>\n",
       "      <th>2608636</th>\n",
       "      <td>2023-06-01 16:14:00</td>\n",
       "      <td>Rain</td>\n",
       "      <td>13.3</td>\n",
       "      <td>0.520000</td>\n",
       "    </tr>\n",
       "    <tr>\n",
       "      <th>2608637</th>\n",
       "      <td>2023-07-23 19:47:00</td>\n",
       "      <td>Clear</td>\n",
       "      <td>5.6</td>\n",
       "      <td>4.989703</td>\n",
       "    </tr>\n",
       "    <tr>\n",
       "      <th>2608638</th>\n",
       "      <td>2022-11-10 08:59:00</td>\n",
       "      <td>Rain</td>\n",
       "      <td>21.4</td>\n",
       "      <td>1.550000</td>\n",
       "    </tr>\n",
       "    <tr>\n",
       "      <th>2608639</th>\n",
       "      <td>2023-02-21 21:50:00</td>\n",
       "      <td>Thunderstorm</td>\n",
       "      <td>23.3</td>\n",
       "      <td>4.999845</td>\n",
       "    </tr>\n",
       "  </tbody>\n",
       "</table>\n",
       "</div>"
      ],
      "text/plain": [
       "                  TIMESTAMP WEATHER_CONDITION  WIND_SPEED  PRECIPITATION\n",
       "2608635 2023-08-28 06:05:00               Fog        20.5       8.530000\n",
       "2608636 2023-06-01 16:14:00              Rain        13.3       0.520000\n",
       "2608637 2023-07-23 19:47:00             Clear         5.6       4.989703\n",
       "2608638 2022-11-10 08:59:00              Rain        21.4       1.550000\n",
       "2608639 2023-02-21 21:50:00      Thunderstorm        23.3       4.999845"
      ]
     },
     "execution_count": 60,
     "metadata": {},
     "output_type": "execute_result"
    }
   ],
   "source": [
    "weather.tail()"
   ]
  },
  {
   "cell_type": "code",
   "execution_count": 61,
   "id": "8732b43f",
   "metadata": {},
   "outputs": [
    {
     "data": {
      "text/plain": [
       "array(['Fog', 'Clear', 'Mist', 'Partly Cloudy', 'Thunderstorm', 'Snow',\n",
       "       'Cloudy', 'Rain', 'Claar', 'Party Cloudy'], dtype=object)"
      ]
     },
     "execution_count": 61,
     "metadata": {},
     "output_type": "execute_result"
    }
   ],
   "source": [
    "weather['WEATHER_CONDITION'].unique()"
   ]
  },
  {
   "cell_type": "code",
   "execution_count": 62,
   "id": "211ad048",
   "metadata": {},
   "outputs": [],
   "source": [
    "weather['WEATHER_CONDITION'] = weather['WEATHER_CONDITION'].replace('Claar', 'Clear')\n",
    "\n",
    "weather['WEATHER_CONDITION'] = weather['WEATHER_CONDITION'].replace('Party Cloudy', 'Partly Cloudy')"
   ]
  },
  {
   "cell_type": "code",
   "execution_count": 63,
   "id": "7e09bfcf",
   "metadata": {},
   "outputs": [],
   "source": [
    "# chunk_size = 500000\n",
    "\n",
    "# chunks = [weather[i:i + chunk_size] for i in range(0, len(weather), chunk_size)]\n",
    "\n",
    "# # Write each chunk to a separate CSV file\n",
    "# for i, chunk in enumerate(chunks):\n",
    "#     chunk.to_csv(f'weather_clean_{i}.csv', index=False)"
   ]
  },
  {
   "cell_type": "code",
   "execution_count": 64,
   "id": "a6ca56ce",
   "metadata": {},
   "outputs": [
    {
     "data": {
      "text/html": [
       "<div>\n",
       "<style scoped>\n",
       "    .dataframe tbody tr th:only-of-type {\n",
       "        vertical-align: middle;\n",
       "    }\n",
       "\n",
       "    .dataframe tbody tr th {\n",
       "        vertical-align: top;\n",
       "    }\n",
       "\n",
       "    .dataframe thead th {\n",
       "        text-align: right;\n",
       "    }\n",
       "</style>\n",
       "<table border=\"1\" class=\"dataframe\">\n",
       "  <thead>\n",
       "    <tr style=\"text-align: right;\">\n",
       "      <th></th>\n",
       "      <th>SENSOR_ID</th>\n",
       "      <th>LOCATION_NAME</th>\n",
       "      <th>LATITUDE</th>\n",
       "      <th>LONGITUDE</th>\n",
       "      <th>ELEVATION</th>\n",
       "      <th>REGION</th>\n",
       "    </tr>\n",
       "  </thead>\n",
       "  <tbody>\n",
       "    <tr>\n",
       "      <th>0</th>\n",
       "      <td>S614</td>\n",
       "      <td>Location 537069</td>\n",
       "      <td>-20.290687</td>\n",
       "      <td>-76.085154</td>\n",
       "      <td>744.73</td>\n",
       "      <td>East</td>\n",
       "    </tr>\n",
       "    <tr>\n",
       "      <th>1</th>\n",
       "      <td>S534</td>\n",
       "      <td>Location 537070</td>\n",
       "      <td>7.836472</td>\n",
       "      <td>-17.116254</td>\n",
       "      <td>1601.59</td>\n",
       "      <td>East</td>\n",
       "    </tr>\n",
       "    <tr>\n",
       "      <th>2</th>\n",
       "      <td>S500</td>\n",
       "      <td>Location 537071</td>\n",
       "      <td>-55.465881</td>\n",
       "      <td>-121.322969</td>\n",
       "      <td>2307.28</td>\n",
       "      <td>South</td>\n",
       "    </tr>\n",
       "    <tr>\n",
       "      <th>3</th>\n",
       "      <td>S721</td>\n",
       "      <td>Location 537072</td>\n",
       "      <td>7.840443</td>\n",
       "      <td>155.518523</td>\n",
       "      <td>4708.69</td>\n",
       "      <td>East</td>\n",
       "    </tr>\n",
       "    <tr>\n",
       "      <th>4</th>\n",
       "      <td>S277</td>\n",
       "      <td>Location 537073</td>\n",
       "      <td>58.713600</td>\n",
       "      <td>-30.183445</td>\n",
       "      <td>4315.49</td>\n",
       "      <td>East</td>\n",
       "    </tr>\n",
       "  </tbody>\n",
       "</table>\n",
       "</div>"
      ],
      "text/plain": [
       "  SENSOR_ID    LOCATION_NAME   LATITUDE   LONGITUDE  ELEVATION REGION\n",
       "0      S614  Location 537069 -20.290687  -76.085154     744.73   East\n",
       "1      S534  Location 537070   7.836472  -17.116254    1601.59   East\n",
       "2      S500  Location 537071 -55.465881 -121.322969    2307.28  South\n",
       "3      S721  Location 537072   7.840443  155.518523    4708.69   East\n",
       "4      S277  Location 537073  58.713600  -30.183445    4315.49   East"
      ]
     },
     "execution_count": 64,
     "metadata": {},
     "output_type": "execute_result"
    }
   ],
   "source": [
    "location.head()"
   ]
  },
  {
   "cell_type": "code",
   "execution_count": 65,
   "id": "facd602f",
   "metadata": {},
   "outputs": [
    {
     "data": {
      "text/plain": [
       "999"
      ]
     },
     "execution_count": 65,
     "metadata": {},
     "output_type": "execute_result"
    }
   ],
   "source": [
    "location['SENSOR_ID'].nunique()"
   ]
  },
  {
   "cell_type": "code",
   "execution_count": 66,
   "id": "b8be5d2f",
   "metadata": {},
   "outputs": [
    {
     "data": {
      "text/html": [
       "<div>\n",
       "<style scoped>\n",
       "    .dataframe tbody tr th:only-of-type {\n",
       "        vertical-align: middle;\n",
       "    }\n",
       "\n",
       "    .dataframe tbody tr th {\n",
       "        vertical-align: top;\n",
       "    }\n",
       "\n",
       "    .dataframe thead th {\n",
       "        text-align: right;\n",
       "    }\n",
       "</style>\n",
       "<table border=\"1\" class=\"dataframe\">\n",
       "  <thead>\n",
       "    <tr style=\"text-align: right;\">\n",
       "      <th></th>\n",
       "      <th>TIMESTAMP</th>\n",
       "      <th>CROP_TYPE</th>\n",
       "      <th>CROP_YIELD</th>\n",
       "      <th>GROWTH_STAGE</th>\n",
       "      <th>PEST_ISSUE</th>\n",
       "    </tr>\n",
       "  </thead>\n",
       "  <tbody>\n",
       "    <tr>\n",
       "      <th>0</th>\n",
       "      <td>2023-06-24 14:37:00</td>\n",
       "      <td>Tomato</td>\n",
       "      <td>111.23</td>\n",
       "      <td>Fruiting</td>\n",
       "      <td>Fungus</td>\n",
       "    </tr>\n",
       "    <tr>\n",
       "      <th>1</th>\n",
       "      <td>2023-01-14 00:57:00</td>\n",
       "      <td>Soybean</td>\n",
       "      <td>589.51</td>\n",
       "      <td>Fruiting</td>\n",
       "      <td>Whiteflies</td>\n",
       "    </tr>\n",
       "    <tr>\n",
       "      <th>2</th>\n",
       "      <td>2023-03-14 14:40:00</td>\n",
       "      <td>Wheat</td>\n",
       "      <td>986.35</td>\n",
       "      <td>Vegetative</td>\n",
       "      <td>Fungus</td>\n",
       "    </tr>\n",
       "    <tr>\n",
       "      <th>3</th>\n",
       "      <td>2023-05-28 18:17:00</td>\n",
       "      <td>Barley</td>\n",
       "      <td>237.98</td>\n",
       "      <td>Fruiting</td>\n",
       "      <td>Caterpillars</td>\n",
       "    </tr>\n",
       "    <tr>\n",
       "      <th>4</th>\n",
       "      <td>2022-12-31 10:39:00</td>\n",
       "      <td>Tomato</td>\n",
       "      <td>801.23</td>\n",
       "      <td>Fruiting</td>\n",
       "      <td>Whiteflies</td>\n",
       "    </tr>\n",
       "  </tbody>\n",
       "</table>\n",
       "</div>"
      ],
      "text/plain": [
       "            TIMESTAMP CROP_TYPE  CROP_YIELD GROWTH_STAGE    PEST_ISSUE\n",
       "0 2023-06-24 14:37:00    Tomato      111.23     Fruiting        Fungus\n",
       "1 2023-01-14 00:57:00   Soybean      589.51     Fruiting    Whiteflies\n",
       "2 2023-03-14 14:40:00     Wheat      986.35   Vegetative        Fungus\n",
       "3 2023-05-28 18:17:00    Barley      237.98     Fruiting  Caterpillars\n",
       "4 2022-12-31 10:39:00    Tomato      801.23     Fruiting    Whiteflies"
      ]
     },
     "execution_count": 66,
     "metadata": {},
     "output_type": "execute_result"
    }
   ],
   "source": [
    "crop.head()"
   ]
  },
  {
   "cell_type": "code",
   "execution_count": 67,
   "id": "3b8620a7",
   "metadata": {},
   "outputs": [
    {
     "data": {
      "text/html": [
       "<div>\n",
       "<style scoped>\n",
       "    .dataframe tbody tr th:only-of-type {\n",
       "        vertical-align: middle;\n",
       "    }\n",
       "\n",
       "    .dataframe tbody tr th {\n",
       "        vertical-align: top;\n",
       "    }\n",
       "\n",
       "    .dataframe thead th {\n",
       "        text-align: right;\n",
       "    }\n",
       "</style>\n",
       "<table border=\"1\" class=\"dataframe\">\n",
       "  <thead>\n",
       "    <tr style=\"text-align: right;\">\n",
       "      <th></th>\n",
       "      <th>TIMESTAMP</th>\n",
       "      <th>CROP_TYPE</th>\n",
       "      <th>CROP_YIELD</th>\n",
       "      <th>GROWTH_STAGE</th>\n",
       "      <th>PEST_ISSUE</th>\n",
       "    </tr>\n",
       "  </thead>\n",
       "  <tbody>\n",
       "    <tr>\n",
       "      <th>0</th>\n",
       "      <td>2023-06-24 14:37:00</td>\n",
       "      <td>Tomato</td>\n",
       "      <td>111.23</td>\n",
       "      <td>Fruiting</td>\n",
       "      <td>Fungus</td>\n",
       "    </tr>\n",
       "    <tr>\n",
       "      <th>1</th>\n",
       "      <td>2023-01-14 00:57:00</td>\n",
       "      <td>Soybean</td>\n",
       "      <td>589.51</td>\n",
       "      <td>Fruiting</td>\n",
       "      <td>Whiteflies</td>\n",
       "    </tr>\n",
       "    <tr>\n",
       "      <th>2</th>\n",
       "      <td>2023-03-14 14:40:00</td>\n",
       "      <td>Wheat</td>\n",
       "      <td>986.35</td>\n",
       "      <td>Vegetative</td>\n",
       "      <td>Fungus</td>\n",
       "    </tr>\n",
       "    <tr>\n",
       "      <th>3</th>\n",
       "      <td>2023-05-28 18:17:00</td>\n",
       "      <td>Barley</td>\n",
       "      <td>237.98</td>\n",
       "      <td>Fruiting</td>\n",
       "      <td>Caterpillars</td>\n",
       "    </tr>\n",
       "    <tr>\n",
       "      <th>4</th>\n",
       "      <td>2022-12-31 10:39:00</td>\n",
       "      <td>Tomato</td>\n",
       "      <td>801.23</td>\n",
       "      <td>Fruiting</td>\n",
       "      <td>Whiteflies</td>\n",
       "    </tr>\n",
       "  </tbody>\n",
       "</table>\n",
       "</div>"
      ],
      "text/plain": [
       "            TIMESTAMP CROP_TYPE  CROP_YIELD GROWTH_STAGE    PEST_ISSUE\n",
       "0 2023-06-24 14:37:00    Tomato      111.23     Fruiting        Fungus\n",
       "1 2023-01-14 00:57:00   Soybean      589.51     Fruiting    Whiteflies\n",
       "2 2023-03-14 14:40:00     Wheat      986.35   Vegetative        Fungus\n",
       "3 2023-05-28 18:17:00    Barley      237.98     Fruiting  Caterpillars\n",
       "4 2022-12-31 10:39:00    Tomato      801.23     Fruiting    Whiteflies"
      ]
     },
     "execution_count": 67,
     "metadata": {},
     "output_type": "execute_result"
    }
   ],
   "source": [
    "crop.head()"
   ]
  },
  {
   "cell_type": "code",
   "execution_count": 68,
   "id": "f07e4c07",
   "metadata": {},
   "outputs": [
    {
     "data": {
      "text/html": [
       "<div>\n",
       "<style scoped>\n",
       "    .dataframe tbody tr th:only-of-type {\n",
       "        vertical-align: middle;\n",
       "    }\n",
       "\n",
       "    .dataframe tbody tr th {\n",
       "        vertical-align: top;\n",
       "    }\n",
       "\n",
       "    .dataframe thead th {\n",
       "        text-align: right;\n",
       "    }\n",
       "</style>\n",
       "<table border=\"1\" class=\"dataframe\">\n",
       "  <thead>\n",
       "    <tr style=\"text-align: right;\">\n",
       "      <th></th>\n",
       "      <th>SENSOR_ID</th>\n",
       "      <th>TIMESTAMP</th>\n",
       "      <th>TEMPERATURE</th>\n",
       "      <th>HUMIDITY</th>\n",
       "      <th>SOIL_MOISTURE</th>\n",
       "      <th>LIGHT_INTENSITY</th>\n",
       "      <th>BATTERY_LEVEL</th>\n",
       "    </tr>\n",
       "  </thead>\n",
       "  <tbody>\n",
       "    <tr>\n",
       "      <th>0</th>\n",
       "      <td>S523</td>\n",
       "      <td>2023-08-22 13:39:14</td>\n",
       "      <td>26.1</td>\n",
       "      <td>50.3</td>\n",
       "      <td>40.4</td>\n",
       "      <td>7988.000000</td>\n",
       "      <td>92.4</td>\n",
       "    </tr>\n",
       "    <tr>\n",
       "      <th>1</th>\n",
       "      <td>S189</td>\n",
       "      <td>2023-01-11 18:18:36</td>\n",
       "      <td>28.2</td>\n",
       "      <td>48.1</td>\n",
       "      <td>25.2</td>\n",
       "      <td>6640.000000</td>\n",
       "      <td>87.3</td>\n",
       "    </tr>\n",
       "    <tr>\n",
       "      <th>2</th>\n",
       "      <td>S662</td>\n",
       "      <td>2023-02-26 20:56:57</td>\n",
       "      <td>30.4</td>\n",
       "      <td>45.9</td>\n",
       "      <td>31.5</td>\n",
       "      <td>4334.000000</td>\n",
       "      <td>99.3</td>\n",
       "    </tr>\n",
       "    <tr>\n",
       "      <th>3</th>\n",
       "      <td>S726</td>\n",
       "      <td>2023-07-21 17:24:46</td>\n",
       "      <td>29.6</td>\n",
       "      <td>59.7</td>\n",
       "      <td>20.6</td>\n",
       "      <td>3715.000000</td>\n",
       "      <td>77.2</td>\n",
       "    </tr>\n",
       "    <tr>\n",
       "      <th>4</th>\n",
       "      <td>S102</td>\n",
       "      <td>2023-02-08 01:52:58</td>\n",
       "      <td>30.5</td>\n",
       "      <td>43.2</td>\n",
       "      <td>41.4</td>\n",
       "      <td>5965.492435</td>\n",
       "      <td>95.9</td>\n",
       "    </tr>\n",
       "  </tbody>\n",
       "</table>\n",
       "</div>"
      ],
      "text/plain": [
       "  SENSOR_ID           TIMESTAMP  TEMPERATURE  HUMIDITY  SOIL_MOISTURE  \\\n",
       "0      S523 2023-08-22 13:39:14         26.1      50.3           40.4   \n",
       "1      S189 2023-01-11 18:18:36         28.2      48.1           25.2   \n",
       "2      S662 2023-02-26 20:56:57         30.4      45.9           31.5   \n",
       "3      S726 2023-07-21 17:24:46         29.6      59.7           20.6   \n",
       "4      S102 2023-02-08 01:52:58         30.5      43.2           41.4   \n",
       "\n",
       "   LIGHT_INTENSITY  BATTERY_LEVEL  \n",
       "0      7988.000000           92.4  \n",
       "1      6640.000000           87.3  \n",
       "2      4334.000000           99.3  \n",
       "3      3715.000000           77.2  \n",
       "4      5965.492435           95.9  "
      ]
     },
     "execution_count": 68,
     "metadata": {},
     "output_type": "execute_result"
    }
   ],
   "source": [
    "sensor.head()"
   ]
  },
  {
   "cell_type": "code",
   "execution_count": 69,
   "id": "3b9f4f99",
   "metadata": {},
   "outputs": [],
   "source": [
    "result_df = pd.merge(sensor, crop, on='TIMESTAMP', how='inner')"
   ]
  },
  {
   "cell_type": "code",
   "execution_count": 70,
   "id": "2b69c4fb",
   "metadata": {},
   "outputs": [
    {
     "data": {
      "text/plain": [
       "(249607, 11)"
      ]
     },
     "execution_count": 70,
     "metadata": {},
     "output_type": "execute_result"
    }
   ],
   "source": [
    "result_df.shape"
   ]
  },
  {
   "cell_type": "code",
   "execution_count": 71,
   "id": "945a03b0",
   "metadata": {},
   "outputs": [
    {
     "data": {
      "text/plain": [
       "998428"
      ]
     },
     "execution_count": 71,
     "metadata": {},
     "output_type": "execute_result"
    }
   ],
   "source": [
    "crop_fix=result_df[['TIMESTAMP','CROP_TYPE','SENSOR_ID','CROP_YIELD']]\n",
    "crop_fix.size"
   ]
  },
  {
   "cell_type": "code",
   "execution_count": 72,
   "id": "dc07f02f",
   "metadata": {},
   "outputs": [],
   "source": [
    "# chunk_size = 500000\n",
    "\n",
    "# chunks = [crop_fix[i:i + chunk_size] for i in range(0, len(crop_fix), chunk_size)]\n",
    "\n",
    "# # Write each chunk to a separate CSV file\n",
    "# for i, chunk in enumerate(chunks):\n",
    "#     chunk.to_csv(f'crop_fix{i}.csv', index=False)"
   ]
  },
  {
   "cell_type": "code",
   "execution_count": null,
   "id": "f0aaf5bf",
   "metadata": {},
   "outputs": [],
   "source": []
  },
  {
   "cell_type": "code",
   "execution_count": 73,
   "id": "62c69756",
   "metadata": {},
   "outputs": [],
   "source": [
    "# crop\n",
    "\n",
    "# location\n",
    "\n",
    "# pest\n",
    "\n",
    "# sensor\n",
    "\n",
    "# soil\n",
    "\n",
    "# weather"
   ]
  },
  {
   "cell_type": "code",
   "execution_count": 74,
   "id": "f1746229",
   "metadata": {},
   "outputs": [],
   "source": [
    "# Best location\n",
    "# location with the least pest\n",
    "# highest yeild\n",
    "# crop with hisgest yield"
   ]
  },
  {
   "cell_type": "code",
   "execution_count": 75,
   "id": "3fd95263",
   "metadata": {},
   "outputs": [
    {
     "data": {
      "text/html": [
       "<div>\n",
       "<style scoped>\n",
       "    .dataframe tbody tr th:only-of-type {\n",
       "        vertical-align: middle;\n",
       "    }\n",
       "\n",
       "    .dataframe tbody tr th {\n",
       "        vertical-align: top;\n",
       "    }\n",
       "\n",
       "    .dataframe thead th {\n",
       "        text-align: right;\n",
       "    }\n",
       "</style>\n",
       "<table border=\"1\" class=\"dataframe\">\n",
       "  <thead>\n",
       "    <tr style=\"text-align: right;\">\n",
       "      <th></th>\n",
       "      <th>SENSOR_ID</th>\n",
       "      <th>LOCATION_NAME</th>\n",
       "      <th>LATITUDE</th>\n",
       "      <th>LONGITUDE</th>\n",
       "      <th>ELEVATION</th>\n",
       "      <th>REGION</th>\n",
       "    </tr>\n",
       "  </thead>\n",
       "  <tbody>\n",
       "    <tr>\n",
       "      <th>0</th>\n",
       "      <td>S614</td>\n",
       "      <td>Location 537069</td>\n",
       "      <td>-20.290687</td>\n",
       "      <td>-76.085154</td>\n",
       "      <td>744.73</td>\n",
       "      <td>East</td>\n",
       "    </tr>\n",
       "    <tr>\n",
       "      <th>1</th>\n",
       "      <td>S534</td>\n",
       "      <td>Location 537070</td>\n",
       "      <td>7.836472</td>\n",
       "      <td>-17.116254</td>\n",
       "      <td>1601.59</td>\n",
       "      <td>East</td>\n",
       "    </tr>\n",
       "    <tr>\n",
       "      <th>2</th>\n",
       "      <td>S500</td>\n",
       "      <td>Location 537071</td>\n",
       "      <td>-55.465881</td>\n",
       "      <td>-121.322969</td>\n",
       "      <td>2307.28</td>\n",
       "      <td>South</td>\n",
       "    </tr>\n",
       "    <tr>\n",
       "      <th>3</th>\n",
       "      <td>S721</td>\n",
       "      <td>Location 537072</td>\n",
       "      <td>7.840443</td>\n",
       "      <td>155.518523</td>\n",
       "      <td>4708.69</td>\n",
       "      <td>East</td>\n",
       "    </tr>\n",
       "    <tr>\n",
       "      <th>4</th>\n",
       "      <td>S277</td>\n",
       "      <td>Location 537073</td>\n",
       "      <td>58.713600</td>\n",
       "      <td>-30.183445</td>\n",
       "      <td>4315.49</td>\n",
       "      <td>East</td>\n",
       "    </tr>\n",
       "  </tbody>\n",
       "</table>\n",
       "</div>"
      ],
      "text/plain": [
       "  SENSOR_ID    LOCATION_NAME   LATITUDE   LONGITUDE  ELEVATION REGION\n",
       "0      S614  Location 537069 -20.290687  -76.085154     744.73   East\n",
       "1      S534  Location 537070   7.836472  -17.116254    1601.59   East\n",
       "2      S500  Location 537071 -55.465881 -121.322969    2307.28  South\n",
       "3      S721  Location 537072   7.840443  155.518523    4708.69   East\n",
       "4      S277  Location 537073  58.713600  -30.183445    4315.49   East"
      ]
     },
     "execution_count": 75,
     "metadata": {},
     "output_type": "execute_result"
    }
   ],
   "source": [
    "location.head()"
   ]
  },
  {
   "cell_type": "code",
   "execution_count": 76,
   "id": "f9ec12a9",
   "metadata": {},
   "outputs": [
    {
     "data": {
      "text/html": [
       "<div>\n",
       "<style scoped>\n",
       "    .dataframe tbody tr th:only-of-type {\n",
       "        vertical-align: middle;\n",
       "    }\n",
       "\n",
       "    .dataframe tbody tr th {\n",
       "        vertical-align: top;\n",
       "    }\n",
       "\n",
       "    .dataframe thead th {\n",
       "        text-align: right;\n",
       "    }\n",
       "</style>\n",
       "<table border=\"1\" class=\"dataframe\">\n",
       "  <thead>\n",
       "    <tr style=\"text-align: right;\">\n",
       "      <th></th>\n",
       "      <th>TIMESTAMP</th>\n",
       "      <th>CROP_TYPE</th>\n",
       "      <th>CROP_YIELD</th>\n",
       "      <th>GROWTH_STAGE</th>\n",
       "      <th>PEST_ISSUE</th>\n",
       "    </tr>\n",
       "  </thead>\n",
       "  <tbody>\n",
       "    <tr>\n",
       "      <th>0</th>\n",
       "      <td>2023-06-24 14:37:00</td>\n",
       "      <td>Tomato</td>\n",
       "      <td>111.23</td>\n",
       "      <td>Fruiting</td>\n",
       "      <td>Fungus</td>\n",
       "    </tr>\n",
       "    <tr>\n",
       "      <th>1</th>\n",
       "      <td>2023-01-14 00:57:00</td>\n",
       "      <td>Soybean</td>\n",
       "      <td>589.51</td>\n",
       "      <td>Fruiting</td>\n",
       "      <td>Whiteflies</td>\n",
       "    </tr>\n",
       "    <tr>\n",
       "      <th>2</th>\n",
       "      <td>2023-03-14 14:40:00</td>\n",
       "      <td>Wheat</td>\n",
       "      <td>986.35</td>\n",
       "      <td>Vegetative</td>\n",
       "      <td>Fungus</td>\n",
       "    </tr>\n",
       "    <tr>\n",
       "      <th>3</th>\n",
       "      <td>2023-05-28 18:17:00</td>\n",
       "      <td>Barley</td>\n",
       "      <td>237.98</td>\n",
       "      <td>Fruiting</td>\n",
       "      <td>Caterpillars</td>\n",
       "    </tr>\n",
       "    <tr>\n",
       "      <th>4</th>\n",
       "      <td>2022-12-31 10:39:00</td>\n",
       "      <td>Tomato</td>\n",
       "      <td>801.23</td>\n",
       "      <td>Fruiting</td>\n",
       "      <td>Whiteflies</td>\n",
       "    </tr>\n",
       "  </tbody>\n",
       "</table>\n",
       "</div>"
      ],
      "text/plain": [
       "            TIMESTAMP CROP_TYPE  CROP_YIELD GROWTH_STAGE    PEST_ISSUE\n",
       "0 2023-06-24 14:37:00    Tomato      111.23     Fruiting        Fungus\n",
       "1 2023-01-14 00:57:00   Soybean      589.51     Fruiting    Whiteflies\n",
       "2 2023-03-14 14:40:00     Wheat      986.35   Vegetative        Fungus\n",
       "3 2023-05-28 18:17:00    Barley      237.98     Fruiting  Caterpillars\n",
       "4 2022-12-31 10:39:00    Tomato      801.23     Fruiting    Whiteflies"
      ]
     },
     "execution_count": 76,
     "metadata": {},
     "output_type": "execute_result"
    }
   ],
   "source": [
    "crop.head()"
   ]
  },
  {
   "cell_type": "code",
   "execution_count": 77,
   "id": "50e20640",
   "metadata": {},
   "outputs": [
    {
     "data": {
      "text/html": [
       "<div>\n",
       "<style scoped>\n",
       "    .dataframe tbody tr th:only-of-type {\n",
       "        vertical-align: middle;\n",
       "    }\n",
       "\n",
       "    .dataframe tbody tr th {\n",
       "        vertical-align: top;\n",
       "    }\n",
       "\n",
       "    .dataframe thead th {\n",
       "        text-align: right;\n",
       "    }\n",
       "</style>\n",
       "<table border=\"1\" class=\"dataframe\">\n",
       "  <thead>\n",
       "    <tr style=\"text-align: right;\">\n",
       "      <th></th>\n",
       "      <th>SENSOR_ID</th>\n",
       "      <th>TIMESTAMP</th>\n",
       "      <th>TEMPERATURE</th>\n",
       "      <th>HUMIDITY</th>\n",
       "      <th>SOIL_MOISTURE</th>\n",
       "      <th>LIGHT_INTENSITY</th>\n",
       "      <th>BATTERY_LEVEL</th>\n",
       "    </tr>\n",
       "  </thead>\n",
       "  <tbody>\n",
       "    <tr>\n",
       "      <th>0</th>\n",
       "      <td>S523</td>\n",
       "      <td>2023-08-22 13:39:14</td>\n",
       "      <td>26.1</td>\n",
       "      <td>50.3</td>\n",
       "      <td>40.4</td>\n",
       "      <td>7988.000000</td>\n",
       "      <td>92.4</td>\n",
       "    </tr>\n",
       "    <tr>\n",
       "      <th>1</th>\n",
       "      <td>S189</td>\n",
       "      <td>2023-01-11 18:18:36</td>\n",
       "      <td>28.2</td>\n",
       "      <td>48.1</td>\n",
       "      <td>25.2</td>\n",
       "      <td>6640.000000</td>\n",
       "      <td>87.3</td>\n",
       "    </tr>\n",
       "    <tr>\n",
       "      <th>2</th>\n",
       "      <td>S662</td>\n",
       "      <td>2023-02-26 20:56:57</td>\n",
       "      <td>30.4</td>\n",
       "      <td>45.9</td>\n",
       "      <td>31.5</td>\n",
       "      <td>4334.000000</td>\n",
       "      <td>99.3</td>\n",
       "    </tr>\n",
       "    <tr>\n",
       "      <th>3</th>\n",
       "      <td>S726</td>\n",
       "      <td>2023-07-21 17:24:46</td>\n",
       "      <td>29.6</td>\n",
       "      <td>59.7</td>\n",
       "      <td>20.6</td>\n",
       "      <td>3715.000000</td>\n",
       "      <td>77.2</td>\n",
       "    </tr>\n",
       "    <tr>\n",
       "      <th>4</th>\n",
       "      <td>S102</td>\n",
       "      <td>2023-02-08 01:52:58</td>\n",
       "      <td>30.5</td>\n",
       "      <td>43.2</td>\n",
       "      <td>41.4</td>\n",
       "      <td>5965.492435</td>\n",
       "      <td>95.9</td>\n",
       "    </tr>\n",
       "  </tbody>\n",
       "</table>\n",
       "</div>"
      ],
      "text/plain": [
       "  SENSOR_ID           TIMESTAMP  TEMPERATURE  HUMIDITY  SOIL_MOISTURE  \\\n",
       "0      S523 2023-08-22 13:39:14         26.1      50.3           40.4   \n",
       "1      S189 2023-01-11 18:18:36         28.2      48.1           25.2   \n",
       "2      S662 2023-02-26 20:56:57         30.4      45.9           31.5   \n",
       "3      S726 2023-07-21 17:24:46         29.6      59.7           20.6   \n",
       "4      S102 2023-02-08 01:52:58         30.5      43.2           41.4   \n",
       "\n",
       "   LIGHT_INTENSITY  BATTERY_LEVEL  \n",
       "0      7988.000000           92.4  \n",
       "1      6640.000000           87.3  \n",
       "2      4334.000000           99.3  \n",
       "3      3715.000000           77.2  \n",
       "4      5965.492435           95.9  "
      ]
     },
     "execution_count": 77,
     "metadata": {},
     "output_type": "execute_result"
    }
   ],
   "source": [
    "sensor.head()"
   ]
  },
  {
   "cell_type": "code",
   "execution_count": 78,
   "id": "38907a7e",
   "metadata": {},
   "outputs": [
    {
     "data": {
      "text/html": [
       "<div>\n",
       "<style scoped>\n",
       "    .dataframe tbody tr th:only-of-type {\n",
       "        vertical-align: middle;\n",
       "    }\n",
       "\n",
       "    .dataframe tbody tr th {\n",
       "        vertical-align: top;\n",
       "    }\n",
       "\n",
       "    .dataframe thead th {\n",
       "        text-align: right;\n",
       "    }\n",
       "</style>\n",
       "<table border=\"1\" class=\"dataframe\">\n",
       "  <thead>\n",
       "    <tr style=\"text-align: right;\">\n",
       "      <th></th>\n",
       "      <th>TIMESTAMP</th>\n",
       "      <th>CROP_TYPE</th>\n",
       "      <th>SENSOR_ID</th>\n",
       "      <th>CROP_YIELD</th>\n",
       "    </tr>\n",
       "  </thead>\n",
       "  <tbody>\n",
       "    <tr>\n",
       "      <th>0</th>\n",
       "      <td>2022-12-26 19:17:00</td>\n",
       "      <td>Corn</td>\n",
       "      <td>S119</td>\n",
       "      <td>985.53</td>\n",
       "    </tr>\n",
       "    <tr>\n",
       "      <th>1</th>\n",
       "      <td>2022-12-26 19:17:00</td>\n",
       "      <td>Sugarcane</td>\n",
       "      <td>S119</td>\n",
       "      <td>963.40</td>\n",
       "    </tr>\n",
       "    <tr>\n",
       "      <th>2</th>\n",
       "      <td>2022-12-14 03:20:00</td>\n",
       "      <td>Cotton</td>\n",
       "      <td>S540</td>\n",
       "      <td>532.14</td>\n",
       "    </tr>\n",
       "    <tr>\n",
       "      <th>3</th>\n",
       "      <td>2022-12-14 03:20:00</td>\n",
       "      <td>Barley</td>\n",
       "      <td>S540</td>\n",
       "      <td>910.27</td>\n",
       "    </tr>\n",
       "    <tr>\n",
       "      <th>4</th>\n",
       "      <td>2022-12-14 03:20:00</td>\n",
       "      <td>Carrot</td>\n",
       "      <td>S540</td>\n",
       "      <td>682.85</td>\n",
       "    </tr>\n",
       "  </tbody>\n",
       "</table>\n",
       "</div>"
      ],
      "text/plain": [
       "            TIMESTAMP  CROP_TYPE SENSOR_ID  CROP_YIELD\n",
       "0 2022-12-26 19:17:00       Corn      S119      985.53\n",
       "1 2022-12-26 19:17:00  Sugarcane      S119      963.40\n",
       "2 2022-12-14 03:20:00     Cotton      S540      532.14\n",
       "3 2022-12-14 03:20:00     Barley      S540      910.27\n",
       "4 2022-12-14 03:20:00     Carrot      S540      682.85"
      ]
     },
     "execution_count": 78,
     "metadata": {},
     "output_type": "execute_result"
    }
   ],
   "source": [
    "crop_fix.head()"
   ]
  },
  {
   "cell_type": "code",
   "execution_count": null,
   "id": "56628c6c",
   "metadata": {},
   "outputs": [],
   "source": [
    "result_df2 = pd.merge(crop_fix, location, on='SENSOR_ID', how='inner')"
   ]
  },
  {
   "cell_type": "code",
   "execution_count": null,
   "id": "e2b37f94",
   "metadata": {},
   "outputs": [],
   "source": [
    "# result_df2.head()"
   ]
  },
  {
   "cell_type": "code",
   "execution_count": 80,
   "id": "4d62efb7",
   "metadata": {},
   "outputs": [],
   "source": [
    "# crop_fix['SENSOR_ID'].nunique()"
   ]
  },
  {
   "cell_type": "code",
   "execution_count": 87,
   "id": "23af0489",
   "metadata": {},
   "outputs": [
    {
     "data": {
      "text/html": [
       "<div>\n",
       "<style scoped>\n",
       "    .dataframe tbody tr th:only-of-type {\n",
       "        vertical-align: middle;\n",
       "    }\n",
       "\n",
       "    .dataframe tbody tr th {\n",
       "        vertical-align: top;\n",
       "    }\n",
       "\n",
       "    .dataframe thead th {\n",
       "        text-align: right;\n",
       "    }\n",
       "</style>\n",
       "<table border=\"1\" class=\"dataframe\">\n",
       "  <thead>\n",
       "    <tr style=\"text-align: right;\">\n",
       "      <th></th>\n",
       "      <th>SENSOR_ID</th>\n",
       "      <th>LOCATION_NAME</th>\n",
       "      <th>LATITUDE</th>\n",
       "      <th>LONGITUDE</th>\n",
       "      <th>ELEVATION</th>\n",
       "      <th>REGION</th>\n",
       "    </tr>\n",
       "  </thead>\n",
       "  <tbody>\n",
       "    <tr>\n",
       "      <th>0</th>\n",
       "      <td>S614</td>\n",
       "      <td>Location 537069</td>\n",
       "      <td>-20.290687</td>\n",
       "      <td>-76.085154</td>\n",
       "      <td>744.73</td>\n",
       "      <td>East</td>\n",
       "    </tr>\n",
       "    <tr>\n",
       "      <th>1</th>\n",
       "      <td>S534</td>\n",
       "      <td>Location 537070</td>\n",
       "      <td>7.836472</td>\n",
       "      <td>-17.116254</td>\n",
       "      <td>1601.59</td>\n",
       "      <td>East</td>\n",
       "    </tr>\n",
       "    <tr>\n",
       "      <th>2</th>\n",
       "      <td>S500</td>\n",
       "      <td>Location 537071</td>\n",
       "      <td>-55.465881</td>\n",
       "      <td>-121.322969</td>\n",
       "      <td>2307.28</td>\n",
       "      <td>South</td>\n",
       "    </tr>\n",
       "    <tr>\n",
       "      <th>3</th>\n",
       "      <td>S721</td>\n",
       "      <td>Location 537072</td>\n",
       "      <td>7.840443</td>\n",
       "      <td>155.518523</td>\n",
       "      <td>4708.69</td>\n",
       "      <td>East</td>\n",
       "    </tr>\n",
       "    <tr>\n",
       "      <th>4</th>\n",
       "      <td>S277</td>\n",
       "      <td>Location 537073</td>\n",
       "      <td>58.713600</td>\n",
       "      <td>-30.183445</td>\n",
       "      <td>4315.49</td>\n",
       "      <td>East</td>\n",
       "    </tr>\n",
       "  </tbody>\n",
       "</table>\n",
       "</div>"
      ],
      "text/plain": [
       "  SENSOR_ID    LOCATION_NAME   LATITUDE   LONGITUDE  ELEVATION REGION\n",
       "0      S614  Location 537069 -20.290687  -76.085154     744.73   East\n",
       "1      S534  Location 537070   7.836472  -17.116254    1601.59   East\n",
       "2      S500  Location 537071 -55.465881 -121.322969    2307.28  South\n",
       "3      S721  Location 537072   7.840443  155.518523    4708.69   East\n",
       "4      S277  Location 537073  58.713600  -30.183445    4315.49   East"
      ]
     },
     "execution_count": 87,
     "metadata": {},
     "output_type": "execute_result"
    }
   ],
   "source": [
    "location.head()"
   ]
  },
  {
   "cell_type": "code",
   "execution_count": 88,
   "id": "80f8b17b",
   "metadata": {},
   "outputs": [
    {
     "name": "stdout",
     "output_type": "stream",
     "text": [
      "    Sensor  Unique_Location_Count\n",
      "0     S001                   2071\n",
      "1     S002                   2188\n",
      "2     S003                   2131\n",
      "3     S004                   2107\n",
      "4     S005                   2041\n",
      "..     ...                    ...\n",
      "994   S995                   2101\n",
      "995   S996                   2117\n",
      "996   S997                   1997\n",
      "997   S998                   2129\n",
      "998   S999                   2047\n",
      "\n",
      "[999 rows x 2 columns]\n"
     ]
    }
   ],
   "source": [
    "sensor_location_counts = location.groupby('SENSOR_ID')['LOCATION_NAME'].nunique().reset_index()\n",
    "sensor_location_counts.columns = ['Sensor', 'Unique_Location_Count']\n",
    "\n",
    "\n",
    "print(sensor_location_counts)\n"
   ]
  },
  {
   "cell_type": "code",
   "execution_count": 89,
   "id": "922549e5",
   "metadata": {},
   "outputs": [
    {
     "data": {
      "text/plain": [
       "(249607, 4)"
      ]
     },
     "execution_count": 89,
     "metadata": {},
     "output_type": "execute_result"
    }
   ],
   "source": [
    "crop_fix.shape"
   ]
  },
  {
   "cell_type": "code",
   "execution_count": 90,
   "id": "6fadfb28",
   "metadata": {},
   "outputs": [],
   "source": [
    "crop_fix.to_csv('crop_fix101.csv')"
   ]
  },
  {
   "cell_type": "code",
   "execution_count": 91,
   "id": "6bde04bc",
   "metadata": {},
   "outputs": [
    {
     "data": {
      "text/html": [
       "<div>\n",
       "<style scoped>\n",
       "    .dataframe tbody tr th:only-of-type {\n",
       "        vertical-align: middle;\n",
       "    }\n",
       "\n",
       "    .dataframe tbody tr th {\n",
       "        vertical-align: top;\n",
       "    }\n",
       "\n",
       "    .dataframe thead th {\n",
       "        text-align: right;\n",
       "    }\n",
       "</style>\n",
       "<table border=\"1\" class=\"dataframe\">\n",
       "  <thead>\n",
       "    <tr style=\"text-align: right;\">\n",
       "      <th></th>\n",
       "      <th>SENSOR_ID</th>\n",
       "      <th>LOCATION_NAME</th>\n",
       "      <th>LATITUDE</th>\n",
       "      <th>LONGITUDE</th>\n",
       "      <th>ELEVATION</th>\n",
       "      <th>REGION</th>\n",
       "    </tr>\n",
       "  </thead>\n",
       "  <tbody>\n",
       "    <tr>\n",
       "      <th>0</th>\n",
       "      <td>S614</td>\n",
       "      <td>Location 537069</td>\n",
       "      <td>-20.290687</td>\n",
       "      <td>-76.085154</td>\n",
       "      <td>744.73</td>\n",
       "      <td>East</td>\n",
       "    </tr>\n",
       "    <tr>\n",
       "      <th>1053486</th>\n",
       "      <td>S223</td>\n",
       "      <td>Location 537069</td>\n",
       "      <td>-1.544838</td>\n",
       "      <td>109.975854</td>\n",
       "      <td>3000.07</td>\n",
       "      <td>West</td>\n",
       "    </tr>\n",
       "  </tbody>\n",
       "</table>\n",
       "</div>"
      ],
      "text/plain": [
       "        SENSOR_ID    LOCATION_NAME   LATITUDE   LONGITUDE  ELEVATION REGION\n",
       "0            S614  Location 537069 -20.290687  -76.085154     744.73   East\n",
       "1053486      S223  Location 537069  -1.544838  109.975854    3000.07   West"
      ]
     },
     "execution_count": 91,
     "metadata": {},
     "output_type": "execute_result"
    }
   ],
   "source": [
    "location[location['LOCATION_NAME']=='Location 537069']"
   ]
  },
  {
   "cell_type": "code",
   "execution_count": 92,
   "id": "04a82867",
   "metadata": {},
   "outputs": [
    {
     "data": {
      "text/html": [
       "<div>\n",
       "<style scoped>\n",
       "    .dataframe tbody tr th:only-of-type {\n",
       "        vertical-align: middle;\n",
       "    }\n",
       "\n",
       "    .dataframe tbody tr th {\n",
       "        vertical-align: top;\n",
       "    }\n",
       "\n",
       "    .dataframe thead th {\n",
       "        text-align: right;\n",
       "    }\n",
       "</style>\n",
       "<table border=\"1\" class=\"dataframe\">\n",
       "  <thead>\n",
       "    <tr style=\"text-align: right;\">\n",
       "      <th></th>\n",
       "      <th>SENSOR_ID</th>\n",
       "      <th>LOCATION_NAME</th>\n",
       "      <th>LATITUDE</th>\n",
       "      <th>LONGITUDE</th>\n",
       "      <th>ELEVATION</th>\n",
       "      <th>REGION</th>\n",
       "    </tr>\n",
       "  </thead>\n",
       "  <tbody>\n",
       "    <tr>\n",
       "      <th>0</th>\n",
       "      <td>S614</td>\n",
       "      <td>Location 537069</td>\n",
       "      <td>-20.290687</td>\n",
       "      <td>-76.085154</td>\n",
       "      <td>744.73</td>\n",
       "      <td>East</td>\n",
       "    </tr>\n",
       "    <tr>\n",
       "      <th>1509</th>\n",
       "      <td>S614</td>\n",
       "      <td>Location 538578</td>\n",
       "      <td>57.155869</td>\n",
       "      <td>135.494074</td>\n",
       "      <td>1540.59</td>\n",
       "      <td>West</td>\n",
       "    </tr>\n",
       "    <tr>\n",
       "      <th>2879</th>\n",
       "      <td>S614</td>\n",
       "      <td>Location 539948</td>\n",
       "      <td>-58.292433</td>\n",
       "      <td>-100.117556</td>\n",
       "      <td>2158.60</td>\n",
       "      <td>North</td>\n",
       "    </tr>\n",
       "    <tr>\n",
       "      <th>4405</th>\n",
       "      <td>S614</td>\n",
       "      <td>Location 541474</td>\n",
       "      <td>49.555363</td>\n",
       "      <td>-148.273822</td>\n",
       "      <td>4384.00</td>\n",
       "      <td>North</td>\n",
       "    </tr>\n",
       "    <tr>\n",
       "      <th>6023</th>\n",
       "      <td>S614</td>\n",
       "      <td>Location 543092</td>\n",
       "      <td>55.936374</td>\n",
       "      <td>156.526162</td>\n",
       "      <td>3836.06</td>\n",
       "      <td>Central</td>\n",
       "    </tr>\n",
       "    <tr>\n",
       "      <th>...</th>\n",
       "      <td>...</td>\n",
       "      <td>...</td>\n",
       "      <td>...</td>\n",
       "      <td>...</td>\n",
       "      <td>...</td>\n",
       "      <td>...</td>\n",
       "    </tr>\n",
       "    <tr>\n",
       "      <th>2099771</th>\n",
       "      <td>S614</td>\n",
       "      <td>Location 534784</td>\n",
       "      <td>13.913575</td>\n",
       "      <td>-126.298761</td>\n",
       "      <td>1635.60</td>\n",
       "      <td>West</td>\n",
       "    </tr>\n",
       "    <tr>\n",
       "      <th>2100880</th>\n",
       "      <td>S614</td>\n",
       "      <td>Location 535893</td>\n",
       "      <td>44.123859</td>\n",
       "      <td>32.730167</td>\n",
       "      <td>1933.86</td>\n",
       "      <td>North</td>\n",
       "    </tr>\n",
       "    <tr>\n",
       "      <th>2101033</th>\n",
       "      <td>S614</td>\n",
       "      <td>Location 536046</td>\n",
       "      <td>15.369374</td>\n",
       "      <td>-1.106987</td>\n",
       "      <td>2541.65</td>\n",
       "      <td>South</td>\n",
       "    </tr>\n",
       "    <tr>\n",
       "      <th>2101583</th>\n",
       "      <td>S614</td>\n",
       "      <td>Location 536596</td>\n",
       "      <td>-44.575377</td>\n",
       "      <td>127.392515</td>\n",
       "      <td>2151.16</td>\n",
       "      <td>North</td>\n",
       "    </tr>\n",
       "    <tr>\n",
       "      <th>2101606</th>\n",
       "      <td>S614</td>\n",
       "      <td>Location 536619</td>\n",
       "      <td>20.781680</td>\n",
       "      <td>121.827215</td>\n",
       "      <td>829.83</td>\n",
       "      <td>East</td>\n",
       "    </tr>\n",
       "  </tbody>\n",
       "</table>\n",
       "<p>2104 rows × 6 columns</p>\n",
       "</div>"
      ],
      "text/plain": [
       "        SENSOR_ID    LOCATION_NAME   LATITUDE   LONGITUDE  ELEVATION   REGION\n",
       "0            S614  Location 537069 -20.290687  -76.085154     744.73     East\n",
       "1509         S614  Location 538578  57.155869  135.494074    1540.59     West\n",
       "2879         S614  Location 539948 -58.292433 -100.117556    2158.60    North\n",
       "4405         S614  Location 541474  49.555363 -148.273822    4384.00    North\n",
       "6023         S614  Location 543092  55.936374  156.526162    3836.06  Central\n",
       "...           ...              ...        ...         ...        ...      ...\n",
       "2099771      S614  Location 534784  13.913575 -126.298761    1635.60     West\n",
       "2100880      S614  Location 535893  44.123859   32.730167    1933.86    North\n",
       "2101033      S614  Location 536046  15.369374   -1.106987    2541.65    South\n",
       "2101583      S614  Location 536596 -44.575377  127.392515    2151.16    North\n",
       "2101606      S614  Location 536619  20.781680  121.827215     829.83     East\n",
       "\n",
       "[2104 rows x 6 columns]"
      ]
     },
     "execution_count": 92,
     "metadata": {},
     "output_type": "execute_result"
    }
   ],
   "source": [
    "location[location['SENSOR_ID']=='S614']"
   ]
  },
  {
   "cell_type": "code",
   "execution_count": null,
   "id": "2c0dbd06",
   "metadata": {},
   "outputs": [],
   "source": []
  },
  {
   "cell_type": "code",
   "execution_count": null,
   "id": "814009ca",
   "metadata": {},
   "outputs": [],
   "source": []
  },
  {
   "cell_type": "code",
   "execution_count": null,
   "id": "ad034d31",
   "metadata": {},
   "outputs": [],
   "source": []
  }
 ],
 "metadata": {
  "kernelspec": {
   "display_name": "Python 3 (ipykernel)",
   "language": "python",
   "name": "python3"
  },
  "language_info": {
   "codemirror_mode": {
    "name": "ipython",
    "version": 3
   },
   "file_extension": ".py",
   "mimetype": "text/x-python",
   "name": "python",
   "nbconvert_exporter": "python",
   "pygments_lexer": "ipython3",
   "version": "3.11.4"
  }
 },
 "nbformat": 4,
 "nbformat_minor": 5
}
